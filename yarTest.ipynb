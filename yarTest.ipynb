{
 "cells": [
  {
   "cell_type": "code",
   "execution_count": null,
   "id": "c9d162b9",
   "metadata": {},
   "outputs": [],
   "source": [
    "print(\"hi\")"
   ]
  }
 ],
 "metadata": {
  "kernelspec": {
   "display_name": "Python (image_classification)",
   "language": "python",
   "name": "age_classification"
  }
 },
 "nbformat": 4,
 "nbformat_minor": 5
}
