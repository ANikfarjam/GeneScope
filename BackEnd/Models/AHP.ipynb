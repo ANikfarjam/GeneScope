{
 "cells": [
  {
   "cell_type": "markdown",
   "metadata": {},
   "source": [
    "<span style=\"color: green\">Author: Ashkan Nikfarjam</span>\n",
    "\n",
    "Now that we have our data we are going to do AHP analysis that act as feature selection\n",
    "\n",
    "ahp.py has all the functions to calculate AHP for us.\n",
    "\n",
    "* <span style=\"color: green\">Two-Sample t-Test:</span>\n",
    "\n",
    "Purpose: Identifies statistically significant differences in gene expression between two groups (e.g., cancerous vs. healthy cells).\n",
    "\n",
    "Method: Compares the means of two independent samples using the t-statistic.\n",
    "\n",
    "Output: A t-score and p-value. A small p-value indicates significant differences in expression.\n",
    "\n",
    "* <span style=\"color: green\">Entropy Test:</span>\n",
    "\n",
    "Purpose: Measures the disorder in gene expression levels.\n",
    "\n",
    "Method: Computes entropy using histogram-based probability distributions.\n",
    "\n",
    "Output: Higher entropy values indicate genes with more variability, which are more useful for classification.\n",
    "\n",
    "* <span style=\"color: green\">Wilcoxon Rank-Sum Test:</span>\n",
    "\n",
    "Purpose: A non-parametric test used to rank genes based on their median expression differences.\n",
    "\n",
    "Method: Compares the ranks of two independent samples instead of their means.\n",
    "\n",
    "Output: A Wilcoxon statistic and a p-value. A low p-value suggests significant differences in gene ranks.\n",
    "\n",
    "* <span style=\"color: green\">Signal-to-Noise Ratio (SNR):</span>\n",
    "\n",
    "Purpose: Compares the difference in mean expression levels relative to the standard deviation.\n",
    "\n",
    "Method: SNR is calculated as the difference between the means of two groups divided by the sum of their standard deviations.\n",
    "\n",
    "Output: A higher SNR suggests that the gene has a strong discriminatory power between groups.\n",
    "\n",
    "* <span style=\"color: green\">AHP Weighted Ranking:</span>\n",
    "\n",
    "Purpose: Integrates statistical measures into a single weighted ranking system to prioritize significant genes.\n",
    "\n",
    "Method: Normalizes scores across all statistical tests and applies predefined weights.\n",
    "\n",
    "Output: A final ranking score indicating the importance of each gene in classification."
   ]
  },
  {
   "cell_type": "markdown",
   "metadata": {},
   "source": [
    "Try with moded AHP"
   ]
  },
  {
   "cell_type": "markdown",
   "metadata": {},
   "source": [
    "<span style=\"color: green\">This the correct calculation</span>"
   ]
  },
  {
   "cell_type": "code",
   "execution_count": 1,
   "metadata": {},
   "outputs": [
    {
     "name": "stdout",
     "output_type": "stream",
     "text": [
      "Before Normalization:\n",
      "NaN in scores: 540\n",
      "T-Test NaN count: 540\n",
      "Entropy NaN count: 0\n",
      "ROC_AUC NaN count: 0\n",
      "Wilcoxon NaN count: 0\n",
      "SNR NaN count: 0\n",
      "After Normalization:\n",
      "NaN in normalized scores: 540\n",
      "Final AHP Rankings NaN count: 540\n",
      "          Gene    T_Score     Entropy   ROC_AUC    Wilcoxon       SNR  \\\n",
      "0  1/2-SBSRNA4   0.689862    2.696670  0.431422   84.488268  0.028173   \n",
      "1         A1BG  14.918537  248.955772  0.798042  367.187581  0.436874   \n",
      "2     A1BG-AS1   5.487732    1.564432  0.613158  139.410757  0.234907   \n",
      "3         A1CF   0.126623    0.063398  0.442462   70.886743  0.005238   \n",
      "4        A2LD1   2.457139    6.593280  0.471652   34.924545  0.081503   \n",
      "\n",
      "   AHP_Score  \n",
      "0   0.120588  \n",
      "1   0.403851  \n",
      "2   0.222456  \n",
      "3   0.112992  \n",
      "4   0.127181  \n"
     ]
    }
   ],
   "source": [
    "import ahp \n",
    "import pandas as pd\n",
    "import numpy as np\n",
    "\n",
    "#load datasets\n",
    "mutated_df = pd.read_csv(\"./data/mutatedDataSet.CSV\", index_col=0)  # Cancer data\n",
    "benign_df = pd.read_csv(\"./data/normalDataset.CSV\", index_col=0)  # Healthy data\n",
    "# Compute AHP scores\n",
    "#top_genes, ahp_scores = ahp.ahp_gene_selection(mutated_df.values, benign_df.values, top_n=mutated_df.shape[0])\n",
    "\n",
    "# Create DataFrame with results\n",
    "results_df = pd.DataFrame({\n",
    "    \"Gene\": mutated_df.index.tolist(),  # Ensure it works correctly\n",
    "    \"T_Score\": ahp.compute_t_test(mutated_df.values, benign_df.values),\n",
    "    \"Entropy\": ahp.compute_entropy(mutated_df.values, benign_df.values),\n",
    "    \"ROC_AUC\": ahp.compute_roc_auc(mutated_df.values, benign_df.values),\n",
    "    \"Wilcoxon\": ahp.compute_wilcoxon(mutated_df.values, benign_df.values),\n",
    "    \"SNR\": ahp.compute_snr(mutated_df.values, benign_df.values),\n",
    "    \"AHP_Score\": ahp.compute_ahp_weighted_ranking(mutated_df.values, benign_df.values)\n",
    "})\n",
    "\n",
    "print(results_df.head())"
   ]
  },
  {
   "cell_type": "code",
   "execution_count": 14,
   "metadata": {},
   "outputs": [
    {
     "data": {
      "text/html": [
       "<div>\n",
       "<style scoped>\n",
       "    .dataframe tbody tr th:only-of-type {\n",
       "        vertical-align: middle;\n",
       "    }\n",
       "\n",
       "    .dataframe tbody tr th {\n",
       "        vertical-align: top;\n",
       "    }\n",
       "\n",
       "    .dataframe thead th {\n",
       "        text-align: right;\n",
       "    }\n",
       "</style>\n",
       "<table border=\"1\" class=\"dataframe\">\n",
       "  <thead>\n",
       "    <tr style=\"text-align: right;\">\n",
       "      <th></th>\n",
       "      <th>Gene</th>\n",
       "      <th>T_Score</th>\n",
       "      <th>Entropy</th>\n",
       "      <th>ROC_AUC</th>\n",
       "      <th>Wilcoxon</th>\n",
       "      <th>SNR</th>\n",
       "      <th>AHP_Score</th>\n",
       "    </tr>\n",
       "  </thead>\n",
       "  <tbody>\n",
       "    <tr>\n",
       "      <th>0</th>\n",
       "      <td>1/2-SBSRNA4</td>\n",
       "      <td>0.689862</td>\n",
       "      <td>2.696670</td>\n",
       "      <td>0.431422</td>\n",
       "      <td>84.488268</td>\n",
       "      <td>0.028173</td>\n",
       "      <td>0.120588</td>\n",
       "    </tr>\n",
       "    <tr>\n",
       "      <th>1</th>\n",
       "      <td>A1BG</td>\n",
       "      <td>14.918537</td>\n",
       "      <td>248.955772</td>\n",
       "      <td>0.798042</td>\n",
       "      <td>367.187581</td>\n",
       "      <td>0.436874</td>\n",
       "      <td>0.403851</td>\n",
       "    </tr>\n",
       "    <tr>\n",
       "      <th>2</th>\n",
       "      <td>A1BG-AS1</td>\n",
       "      <td>5.487732</td>\n",
       "      <td>1.564432</td>\n",
       "      <td>0.613158</td>\n",
       "      <td>139.410757</td>\n",
       "      <td>0.234907</td>\n",
       "      <td>0.222456</td>\n",
       "    </tr>\n",
       "    <tr>\n",
       "      <th>3</th>\n",
       "      <td>A1CF</td>\n",
       "      <td>0.126623</td>\n",
       "      <td>0.063398</td>\n",
       "      <td>0.442462</td>\n",
       "      <td>70.886743</td>\n",
       "      <td>0.005238</td>\n",
       "      <td>0.112992</td>\n",
       "    </tr>\n",
       "    <tr>\n",
       "      <th>4</th>\n",
       "      <td>A2LD1</td>\n",
       "      <td>2.457139</td>\n",
       "      <td>6.593280</td>\n",
       "      <td>0.471652</td>\n",
       "      <td>34.924545</td>\n",
       "      <td>0.081503</td>\n",
       "      <td>0.127181</td>\n",
       "    </tr>\n",
       "    <tr>\n",
       "      <th>...</th>\n",
       "      <td>...</td>\n",
       "      <td>...</td>\n",
       "      <td>...</td>\n",
       "      <td>...</td>\n",
       "      <td>...</td>\n",
       "      <td>...</td>\n",
       "      <td>...</td>\n",
       "    </tr>\n",
       "    <tr>\n",
       "      <th>23363</th>\n",
       "      <td>ZYG11B</td>\n",
       "      <td>8.404825</td>\n",
       "      <td>62.197572</td>\n",
       "      <td>0.206371</td>\n",
       "      <td>361.750868</td>\n",
       "      <td>0.472383</td>\n",
       "      <td>0.254365</td>\n",
       "    </tr>\n",
       "    <tr>\n",
       "      <th>23364</th>\n",
       "      <td>ZYX</td>\n",
       "      <td>7.578861</td>\n",
       "      <td>11722.125912</td>\n",
       "      <td>0.275934</td>\n",
       "      <td>276.049570</td>\n",
       "      <td>0.368290</td>\n",
       "      <td>0.224430</td>\n",
       "    </tr>\n",
       "    <tr>\n",
       "      <th>23365</th>\n",
       "      <td>ZZEF1</td>\n",
       "      <td>11.370266</td>\n",
       "      <td>65.988679</td>\n",
       "      <td>0.208918</td>\n",
       "      <td>358.613554</td>\n",
       "      <td>0.516351</td>\n",
       "      <td>0.273365</td>\n",
       "    </tr>\n",
       "    <tr>\n",
       "      <th>23366</th>\n",
       "      <td>ZZZ3</td>\n",
       "      <td>5.090598</td>\n",
       "      <td>359.859440</td>\n",
       "      <td>0.330320</td>\n",
       "      <td>209.045497</td>\n",
       "      <td>0.229146</td>\n",
       "      <td>0.185421</td>\n",
       "    </tr>\n",
       "    <tr>\n",
       "      <th>23367</th>\n",
       "      <td>tAKR</td>\n",
       "      <td>1.874365</td>\n",
       "      <td>2.137674</td>\n",
       "      <td>0.368645</td>\n",
       "      <td>161.829889</td>\n",
       "      <td>0.053682</td>\n",
       "      <td>0.141968</td>\n",
       "    </tr>\n",
       "  </tbody>\n",
       "</table>\n",
       "<p>23368 rows × 7 columns</p>\n",
       "</div>"
      ],
      "text/plain": [
       "              Gene    T_Score       Entropy   ROC_AUC    Wilcoxon       SNR  \\\n",
       "0      1/2-SBSRNA4   0.689862      2.696670  0.431422   84.488268  0.028173   \n",
       "1             A1BG  14.918537    248.955772  0.798042  367.187581  0.436874   \n",
       "2         A1BG-AS1   5.487732      1.564432  0.613158  139.410757  0.234907   \n",
       "3             A1CF   0.126623      0.063398  0.442462   70.886743  0.005238   \n",
       "4            A2LD1   2.457139      6.593280  0.471652   34.924545  0.081503   \n",
       "...            ...        ...           ...       ...         ...       ...   \n",
       "23363       ZYG11B   8.404825     62.197572  0.206371  361.750868  0.472383   \n",
       "23364          ZYX   7.578861  11722.125912  0.275934  276.049570  0.368290   \n",
       "23365        ZZEF1  11.370266     65.988679  0.208918  358.613554  0.516351   \n",
       "23366         ZZZ3   5.090598    359.859440  0.330320  209.045497  0.229146   \n",
       "23367         tAKR   1.874365      2.137674  0.368645  161.829889  0.053682   \n",
       "\n",
       "       AHP_Score  \n",
       "0       0.120588  \n",
       "1       0.403851  \n",
       "2       0.222456  \n",
       "3       0.112992  \n",
       "4       0.127181  \n",
       "...          ...  \n",
       "23363   0.254365  \n",
       "23364   0.224430  \n",
       "23365   0.273365  \n",
       "23366   0.185421  \n",
       "23367   0.141968  \n",
       "\n",
       "[23368 rows x 7 columns]"
      ]
     },
     "execution_count": 14,
     "metadata": {},
     "output_type": "execute_result"
    }
   ],
   "source": [
    "results_df"
   ]
  },
  {
   "cell_type": "code",
   "execution_count": 15,
   "metadata": {},
   "outputs": [
    {
     "data": {
      "text/plain": [
       "(23368, 7)"
      ]
     },
     "execution_count": 15,
     "metadata": {},
     "output_type": "execute_result"
    }
   ],
   "source": [
    "results_df.shape"
   ]
  },
  {
   "cell_type": "code",
   "execution_count": 22,
   "metadata": {},
   "outputs": [
    {
     "name": "stderr",
     "output_type": "stream",
     "text": [
      "/Library/Frameworks/Python.framework/Versions/3.10/lib/python3.10/site-packages/seaborn/_oldcore.py:1498: FutureWarning:\n",
      "\n",
      "is_categorical_dtype is deprecated and will be removed in a future version. Use isinstance(dtype, CategoricalDtype) instead\n",
      "\n",
      "/Library/Frameworks/Python.framework/Versions/3.10/lib/python3.10/site-packages/seaborn/_oldcore.py:1498: FutureWarning:\n",
      "\n",
      "is_categorical_dtype is deprecated and will be removed in a future version. Use isinstance(dtype, CategoricalDtype) instead\n",
      "\n",
      "/Library/Frameworks/Python.framework/Versions/3.10/lib/python3.10/site-packages/seaborn/_oldcore.py:1498: FutureWarning:\n",
      "\n",
      "is_categorical_dtype is deprecated and will be removed in a future version. Use isinstance(dtype, CategoricalDtype) instead\n",
      "\n",
      "/Library/Frameworks/Python.framework/Versions/3.10/lib/python3.10/site-packages/seaborn/_oldcore.py:1498: FutureWarning:\n",
      "\n",
      "is_categorical_dtype is deprecated and will be removed in a future version. Use isinstance(dtype, CategoricalDtype) instead\n",
      "\n"
     ]
    },
    {
     "data": {
      "image/png": "[encoded data removed]",
      "text/plain": [
       "<Figure size 1000x600 with 1 Axes>"
      ]
     },
     "metadata": {},
     "output_type": "display_data"
    }
   ],
   "source": [
    "import matplotlib.pyplot as plt\n",
    "import seaborn as sns\n",
    "\n",
    "# Sort by AHP Score (Highest Importance First)\n",
    "data=results_df.copy()\n",
    "# Sort by AHP Score and define threshold for top genes (e.g., top 1%)\n",
    "top_n = int(len(data) * 0.01)  # Top 1% genes\n",
    "top_genes = data.nlargest(top_n, 'AHP_Score')\n",
    "\n",
    "# Create Volcano Plot\n",
    "plt.figure(figsize=(10, 6))\n",
    "\n",
    "# Scatter plot for all genes\n",
    "sns.scatterplot(x=data[\"T_Score\"], y=data[\"AHP_Score\"], color=\"gray\", alpha=0.6, label=\"All Genes\")\n",
    "\n",
    "# Highlight top genes\n",
    "sns.scatterplot(x=top_genes[\"T_Score\"], y=top_genes[\"AHP_Score\"], color=\"red\", label=\"Top Genes\", s=50)\n",
    "\n",
    "# Add labels for the top 10 genes\n",
    "for _, row in top_genes.nlargest(10, 'AHP_Score').iterrows():\n",
    "    plt.text(row[\"T_Score\"], row[\"AHP_Score\"], row[\"Gene\"], fontsize=9, ha='right')\n",
    "\n",
    "# Labels and formatting\n",
    "plt.xlabel(\"T-Score\")\n",
    "plt.ylabel(\"AHP Score\")\n",
    "plt.title(\"Volcano Plot: AHP Score vs. T-Score\")\n",
    "plt.axhline(y=data[\"AHP_Score\"].quantile(0.99), color=\"blue\", linestyle=\"dashed\", label=\"99th Percentile AHP Score\")\n",
    "plt.legend()\n",
    "plt.grid(True)\n",
    "\n",
    "# Show the plot\n",
    "plt.show()"
   ]
  },
  {
   "cell_type": "code",
   "execution_count": 26,
   "metadata": {},
   "outputs": [
    {
     "data": {
      "application/vnd.plotly.v1+json": {
       "config": {
        "plotlyServerURL": "https://plot.ly"
       },
       "data": [
        {
         "customdata": [
          [
           "NEK2",
           595.9094956780311,
           1.1259232593692372,
           0.7152317537367201
          ],
          [
           "ARF1",
           560.2785673048787,
           1.2009578626217918,
           0.7130781804655302
          ],
          [
           "JTB",
           570.2848466155781,
           1.153193173094093,
           0.7043986860341099
          ],
          [
           "SPC25",
           579.7260195971435,
           1.0886711010570074,
           0.6934312347042819
          ],
          [
           "KIAA0101",
           584.4222480564979,
           1.0593297743010757,
           0.6892215755460804
          ],
          [
           "CCDC167",
           582.7756451319525,
           1.064984720406513,
           0.688696136073962
          ],
          [
           "MAZ",
           565.0235118270897,
           1.153506667226864,
           0.6884948335259449
          ],
          [
           "POC1A",
           577.8553227834586,
           1.0879957522343409,
           0.688358703605768
          ],
          [
           "KIF4A",
           585.0458136610596,
           1.0450368176853355,
           0.6865399566102826
          ],
          [
           "H2AFY",
           560.7072686580148,
           1.1534893781425704,
           0.6844121510787537
          ],
          [
           "CCNB1",
           577.8553227834586,
           1.0516662458057606,
           0.6826730023434057
          ],
          [
           "UBE2T",
           589.7615285455566,
           1.020396700190719,
           0.6820693359501595
          ],
          [
           "PKMYT1",
           585.5622039273371,
           1.016458410760013,
           0.6788864273380267
          ],
          [
           "RUSC1",
           567.9367323859008,
           1.0556903955508814,
           0.6785984460517912
          ],
          [
           "HSD17B6",
           576.0820580954867,
           1.0390699273888355,
           0.6781802706721691
          ],
          [
           "RNASEH2A",
           570.6843183310003,
           1.0452003127250242,
           0.673665151342688
          ],
          [
           "PPP4C",
           559.7037177631735,
           1.090889922576649,
           0.6734072572145726
          ],
          [
           "CDC25C",
           573.50984997667,
           1.0323546026033095,
           0.6733593283728448
          ],
          [
           "SLC50A1",
           579.9890863365679,
           1.018141030367516,
           0.6722627769503448
          ],
          [
           "ASF1B",
           582.1131066771059,
           0.996993911735782,
           0.6706621121679907
          ],
          [
           "C16orf59",
           574.9908182875038,
           1.0039577781399387,
           0.6684573913390953
          ],
          [
           "H2AFZ",
           561.8082516785689,
           1.0323287687110745,
           0.6677805729669619
          ],
          [
           "LSM4",
           560.3857426431628,
           1.0498496700877806,
           0.6651557108281666
          ],
          [
           "APOA1BP",
           553.5752370558415,
           1.0527122266085107,
           0.6645852061589527
          ],
          [
           "KIF4B",
           567.6639224339051,
           0.9954594636373165,
           0.6638250995923219
          ],
          [
           "PAFAH1B3",
           585.2211914873425,
           0.9740473651751583,
           0.6634542959279935
          ],
          [
           "CKS2",
           585.6401496279074,
           0.9584181648890502,
           0.6615898232260113
          ],
          [
           "NUSAP1",
           566.9331814910595,
           1.0035147847167067,
           0.6611261699580157
          ],
          [
           "MMP11",
           607.1434197727111,
           0.9288167166891879,
           0.6597416280298182
          ],
          [
           "NACC1",
           559.4893670866055,
           1.0925119757296313,
           0.6591412897809009
          ],
          [
           "TIMM17A",
           544.7771161039802,
           1.0496802569992922,
           0.6586009349699237
          ],
          [
           "SCAMP3",
           541.5910855931734,
           1.01836803777878,
           0.6563937391992481
          ],
          [
           "FLAD1",
           565.1014575276597,
           0.9757228678913346,
           0.6556996997850021
          ],
          [
           "PYCR1",
           566.4265344373532,
           1.019084625514072,
           0.655651489733888
          ],
          [
           "TACC3",
           565.9783466590745,
           0.9892510028955124,
           0.6547460996804909
          ],
          [
           "PAQR4",
           575.916423481775,
           0.9488201455207628,
           0.6546842900176304
          ],
          [
           "UHRF1",
           575.8774506314899,
           0.950468440670767,
           0.6533717983432658
          ],
          [
           "TPX2",
           579.3362910942925,
           0.9357612616295279,
           0.6527415739327292
          ],
          [
           "PTTG3P",
           577.3779053674662,
           0.9388031198946332,
           0.6526177702089253
          ],
          [
           "POLR3K",
           551.2076364010218,
           1.0026230191327323,
           0.6523964850433374
          ],
          [
           "OIP5",
           556.6248625906507,
           0.981785044413063,
           0.6514618290611096
          ],
          [
           "PTTG1",
           576.2574359217696,
           0.9365891579645921,
           0.6510602987370447
          ],
          [
           "CDKN3",
           577.9527549091714,
           0.9317810928284049,
           0.6506241653997041
          ],
          [
           "HJURP",
           573.6754845903818,
           0.9434461953526699,
           0.650341900419801
          ],
          [
           "C1orf31",
           539.3501467017802,
           1.000919407837349,
           0.6495770965791832
          ],
          [
           "ZWINT",
           568.9207968555995,
           0.9483776810352514,
           0.6484251710078274
          ],
          [
           "RAD51",
           552.0455526821514,
           0.9772592806606246,
           0.6483072911922464
          ],
          [
           "ATP6V0B",
           554.0429112592628,
           1.0188221491221932,
           0.6480944186337552
          ],
          [
           "KIFC1",
           568.9500264933133,
           0.9355649508164953,
           0.646905367883383
          ],
          [
           "TROAP",
           573.0226893481063,
           0.928564417807208,
           0.6467180243364796
          ],
          [
           "LAGE3",
           563.4451113905432,
           0.9393833214557469,
           0.6457202597339141
          ],
          [
           "PLK1",
           573.8508624166648,
           0.9162822514185334,
           0.6443949699770868
          ],
          [
           "UBE2C",
           581.4992842851156,
           0.9009248164252219,
           0.6435365389631603
          ],
          [
           "PPAPDC1A",
           569.5833353104463,
           0.9217716761826162,
           0.6434676417195027
          ],
          [
           "PARP1",
           536.8363978583913,
           1.0023565771273053,
           0.642055976127196
          ],
          [
           "KIF20A",
           562.8994914865516,
           0.9428360895160739,
           0.6417506150559164
          ],
          [
           "IQGAP3",
           576.0138556074878,
           0.901353321064367,
           0.6408106956140897
          ],
          [
           "TSTA3",
           552.8250096878535,
           0.9599757232658964,
           0.6379283842986134
          ],
          [
           "RABIF",
           542.7895007394402,
           0.9880072812057039,
           0.6378602847841515
          ],
          [
           "RNF187",
           522.3092679146204,
           1.0306290004934207,
           0.6374862364108269
          ],
          [
           "CDK1",
           575.8871938440611,
           0.8848483346185175,
           0.6362629112496425
          ],
          [
           "CENPM",
           558.6514508054757,
           0.9294364611612216,
           0.6356606770904916
          ],
          [
           "CDK5",
           543.4325527691444,
           0.9877881629392732,
           0.6355555683907742
          ],
          [
           "SLC35A2",
           560.3077969425925,
           0.9382109393847881,
           0.6337537251529195
          ],
          [
           "HDGF",
           548.7133739827754,
           0.9497167437908267,
           0.6331933125386116
          ],
          [
           "C1QTNF6",
           540.7141964617587,
           0.9391303113553825,
           0.633105437846275
          ],
          [
           "PMM2",
           537.7035437772347,
           1.0119662260705438,
           0.6330625864142785
          ],
          [
           "CCDC64",
           556.244877300371,
           0.9221895830555782,
           0.6327547118322074
          ],
          [
           "NUAK2",
           549.2102778239104,
           0.931614371617878,
           0.6327140030646099
          ],
          [
           "CCT3",
           540.1588333451961,
           1.0093266331114639,
           0.6323324815239435
          ],
          [
           "COL10A1",
           597.7022467911456,
           0.8467006935181307,
           0.6316328662953867
          ],
          [
           "PBK",
           567.0111271916297,
           0.8857797280932623,
           0.6316224420258789
          ],
          [
           "SPC24",
           564.399946222528,
           0.9002440244658676,
           0.6307957510950787
          ],
          [
           "AURKA",
           577.9624981217427,
           0.8601626855738089,
           0.6305228601743174
          ],
          [
           "BUB1B",
           553.1855085529905,
           0.9197897328382101,
           0.6303504356660624
          ],
          [
           "KIF23",
           545.4883706216834,
           0.9201723720575462,
           0.6285666510130895
          ],
          [
           "CEP55",
           569.1448907447389,
           0.866982674872884,
           0.6279183517475624
          ],
          [
           "HMMR",
           559.1873274968959,
           0.9063608414055716,
           0.6273813691553226
          ],
          [
           "CCNB2",
           561.3016046248625,
           0.8803312461826971,
           0.6269009686911611
          ],
          [
           "CENPF",
           559.050922520898,
           0.8816374035271582,
           0.6263180182799367
          ],
          [
           "SOX12",
           525.8655405031358,
           0.969748315171727,
           0.6256827566870913
          ],
          [
           "ERCC6L",
           544.2996986879879,
           0.9110126829753069,
           0.6256442450473517
          ],
          [
           "GINS1",
           548.6938875576328,
           0.9025392298987202,
           0.6254837468109306
          ],
          [
           "RECQL4",
           559.8011498888862,
           0.8744944665129113,
           0.6254480707068131
          ],
          [
           "TMEM63B",
           533.1826931441631,
           0.9356913803679819,
           0.624276815541141
          ],
          [
           "UBE2S",
           562.5097629837006,
           0.8638816953278524,
           0.623935899330989
          ],
          [
           "LAMTOR2",
           534.1375279761481,
           0.9564619744811959,
           0.6235471947552547
          ],
          [
           "BUB1",
           562.8800050614091,
           0.8657059545314804,
           0.6234192041030938
          ],
          [
           "NUF2",
           582.0546474016783,
           0.8275464482999053,
           0.6231069128492608
          ],
          [
           "LMNB1",
           545.6540052353951,
           0.921951259878276,
           0.6230939391489646
          ],
          [
           "PRCC",
           523.8584387134531,
           0.985818552111501,
           0.6229324404327807
          ],
          [
           "EXO1",
           556.2059044500859,
           0.8710476506392542,
           0.6225629855269162
          ],
          [
           "BMP8A",
           554.6859632889668,
           0.8713745823808045,
           0.6222198353907463
          ],
          [
           "NEIL3",
           559.1288682214682,
           0.8684882219270252,
           0.6220950712499228
          ],
          [
           "CDCA8",
           571.2201950224204,
           0.8413074474063921,
           0.6216066588770686
          ],
          [
           "CDCA3",
           574.6108329972241,
           0.834287389537762,
           0.6214608648251677
          ],
          [
           "KIF2C",
           566.6993443893489,
           0.8478973232039637,
           0.6213788884669078
          ],
          [
           "MRPL17",
           527.8726422928183,
           0.9625143661492448,
           0.6213449511593709
          ],
          [
           "MELK",
           568.61875726589,
           0.8422807934458467,
           0.620816575681922
          ],
          [
           "DTL",
           562.5389926214145,
           0.8520833732760495,
           0.6200626445441254
          ],
          [
           "NCAPG",
           554.6664768638243,
           0.8741224446796736,
           0.6198108517080332
          ],
          [
           "GPR172A",
           544.1730369245613,
           0.8906735965685079,
           0.619448581558699
          ],
          [
           "DLGAP5",
           561.1749428614361,
           0.8605206084250088,
           0.6192363239114707
          ],
          [
           "H2AFX",
           539.165025662926,
           0.9059342354449497,
           0.6189493149853356
          ],
          [
           "KIF11",
           544.0171455234209,
           0.8996057241982125,
           0.6182825644783932
          ],
          [
           "TRIM11",
           530.7858628516295,
           0.9780464760183326,
           0.6181837065118659
          ],
          [
           "GPRIN1",
           574.8933861617911,
           0.8214992008000218,
           0.6179752502164949
          ],
          [
           "HN1",
           569.5053896098761,
           0.8312482512226298,
           0.617906273608192
          ],
          [
           "KIF22",
           534.0011230001503,
           0.9426070923508403,
           0.6175430121187582
          ],
          [
           "E2F1",
           539.7009023543461,
           0.8828934221758598,
           0.61740338053096
          ],
          [
           "HM13",
           538.1517315555134,
           0.9378054177404009,
           0.6173906060348091
          ],
          [
           "NCAPH",
           544.0463751611347,
           0.8846785343186152,
           0.6170586624894252
          ],
          [
           "LOC100128338",
           541.5326263177458,
           0.8990887672359995,
           0.6169997325684295
          ],
          [
           "TOR3A",
           521.0523934929258,
           0.9918702396101376,
           0.6168035671288465
          ],
          [
           "RMI2",
           557.063307156358,
           0.8452984988261774,
           0.614846151206576
          ],
          [
           "PGP",
           528.6131264482352,
           0.9200107219546948,
           0.6146644681835467
          ],
          [
           "NDC80",
           565.6665638567937,
           0.8254552376739599,
           0.6141713461222303
          ],
          [
           "HNRNPAB",
           532.646816452743,
           0.9592592310434338,
           0.6141490564233866
          ],
          [
           "PRR19",
           543.6079305954274,
           0.9063191244173838,
           0.6140091758919459
          ],
          [
           "MLF1IP",
           537.8496919658039,
           0.8897090506827195,
           0.6137314334150915
          ],
          [
           "CTHRC1",
           512.3614478793486,
           0.9405764711266831,
           0.613722427932981
          ],
          [
           "CKAP2L",
           550.4379226078911,
           0.8572988892874581,
           0.6133873650522907
          ],
          [
           "PRC1",
           554.3254644238298,
           0.8399415761120264,
           0.6124868704942974
          ],
          [
           "SKA1",
           562.9287211242655,
           0.8215870418384986,
           0.6120890001532198
          ],
          [
           "CDCA5",
           563.8445831059654,
           0.8206602416406487,
           0.6120192239888398
          ],
          [
           "RACGAP1",
           522.9815495820384,
           0.9013584278990832,
           0.6115366516518423
          ],
          [
           "SKA3",
           559.9180684397415,
           0.8202050505814259,
           0.6094657198875189
          ],
          [
           "TPRN",
           508.0354614977026,
           0.9264295310092477,
           0.609309169871473
          ],
          [
           "EZH2",
           552.2988762090046,
           0.843274345245896,
           0.6083616519927779
          ],
          [
           "GTSE1",
           556.2935933632273,
           0.8294174666530024,
           0.6082657620065228
          ],
          [
           "SAMD1",
           517.5935530301233,
           0.9492077064129796,
           0.6080019439982457
          ],
          [
           "DAP3",
           506.55449318686885,
           0.9286543388481113,
           0.6076628476278582
          ],
          [
           "ZNF668",
           518.8699138769603,
           0.9733368856142878,
           0.6074203787267415
          ],
          [
           "TBL2",
           511.2117487959382,
           0.9328431752173857,
           0.6073346943976162
          ],
          [
           "CDC45",
           532.7442485784558,
           0.8626489131290308,
           0.606925910174866
          ],
          [
           "RRM2",
           561.8277381037113,
           0.8070064635468421,
           0.6065241189232411
          ],
          [
           "TK1",
           575.6533567423505,
           0.7794730593041275,
           0.6062769352066238
          ],
          [
           "AP1S1",
           522.9036038814681,
           0.9592311147217056,
           0.606116290445789
          ],
          [
           "FEN1",
           532.7247621533132,
           0.866196461476049,
           0.6056890838172919
          ],
          [
           "KCTD5",
           518.6263335626785,
           0.9143681416484083,
           0.6052350469206058
          ],
          [
           "SPAG5",
           564.1953387585312,
           0.7961589629814511,
           0.6051971899265695
          ],
          [
           "MRPL14",
           535.2872270595585,
           0.8775516924506301,
           0.6050249697568105
          ],
          [
           "PSENEN",
           527.9603312059598,
           0.8952920256211347,
           0.6048145220465161
          ],
          [
           "CENPL",
           520.9354749420706,
           0.882519278807022,
           0.6046987999992679
          ],
          [
           "POLR2H",
           534.2057304641471,
           0.902533934270617,
           0.604694297778988
          ],
          [
           "PSMA5",
           511.18251915822435,
           0.9207993821537532,
           0.6046761429778653
          ],
          [
           "CDC20",
           564.0199609322483,
           0.7931024184026704,
           0.6044976662094749
          ],
          [
           "MRPS34",
           514.8751967227377,
           0.9330931964486711,
           0.6037400977335481
          ],
          [
           "MTX1",
           511.5137883856478,
           0.9143638960960252,
           0.6034508266280684
          ],
          [
           "CFL1",
           527.9018719305321,
           0.939835644063779,
           0.6032319739067505
          ],
          [
           "KPNA2",
           546.004760887961,
           0.8197356502011015,
           0.6031241884383369
          ],
          [
           "FAM54A",
           554.2670051484021,
           0.8049781732089787,
           0.6030967540344943
          ],
          [
           "SNRNP25",
           526.7326864219791,
           0.9055913619786891,
           0.6029636431189543
          ],
          [
           "CTXN1",
           533.2996116950185,
           0.8458908237884191,
           0.6028166083197743
          ],
          [
           "CERS2",
           485.8209368351958,
           0.9332146830063763,
           0.6026615408253458
          ],
          [
           "ATP6AP1",
           518.3924964609678,
           0.8963210071245018,
           0.6021161571103639
          ],
          [
           "RAB8A",
           524.5209771682997,
           0.9312552121740318,
           0.6014779361926441
          ],
          [
           "DDX39A",
           539.661929504061,
           0.830885081698428,
           0.6005654305372745
          ],
          [
           "AURKB",
           555.1926103426731,
           0.795066444200034,
           0.6003073650091555
          ],
          [
           "DEPDC1B",
           540.3439543840502,
           0.8325868000820149,
           0.5999532127202319
          ],
          [
           "HMGB3",
           531.2827666927645,
           0.8341607127112008,
           0.5995051840831185
          ],
          [
           "SGOL1",
           547.7000798753628,
           0.8063225838743786,
           0.5994316887033151
          ],
          [
           "C16orf53",
           511.591734086218,
           0.9198855024204501,
           0.5994125771794379
          ],
          [
           "SCNM1",
           524.462517892872,
           0.8697865262206671,
           0.5993366728300186
          ],
          [
           "OBFC2B",
           503.0664230863524,
           0.930718890502526,
           0.5989680410761796
          ],
          [
           "ASPM",
           552.6301454364279,
           0.7941090629766615,
           0.5982248304491282
          ],
          [
           "GABRD",
           573.2760128749595,
           0.7537366957205586,
           0.5978204113135076
          ],
          [
           "SNRPB",
           516.8335824495638,
           0.9169551640003887,
           0.5973019189062112
          ],
          [
           "FBXL6",
           524.7937871202955,
           0.8458355134886895,
           0.5967951126623442
          ],
          [
           "FAM83D",
           548.5867122193488,
           0.7928957933535625,
           0.5967834516988668
          ],
          [
           "TMEM8A",
           519.5811683946633,
           0.8774231242834861,
           0.5964468894311868
          ],
          [
           "TMEM206",
           534.3323922275736,
           0.8409449215348754,
           0.5964031421740175
          ],
          [
           "UNC5B",
           502.2479932303653,
           0.8742422932376087,
           0.5962534047877474
          ],
          [
           "ESPL1",
           530.7566332139157,
           0.8391853625070796,
           0.5956122988538962
          ],
          [
           "CLSPN",
           543.5981873828562,
           0.7975777752746378,
           0.5949841923114982
          ],
          [
           "TXNDC17",
           511.698909424502,
           0.9009292956966628,
           0.5947112921582811
          ],
          [
           "ANLN",
           553.770101307267,
           0.7739442316656743,
           0.5939117941594863
          ],
          [
           "REEP4",
           506.2232239594454,
           0.8729110811055644,
           0.5938995777576971
          ],
          [
           "CCNA2",
           544.7771161039802,
           0.7963130274141823,
           0.5934904739797017
          ],
          [
           "SLC25A39",
           508.1036639857015,
           0.8957278405599947,
           0.5929579763614407
          ],
          [
           "RNFT2",
           530.1330676093542,
           0.810041399117583,
           0.5925907046807265
          ],
          [
           "MNF1",
           524.530720380871,
           0.8561137187237172,
           0.5921611621320849
          ],
          [
           "ALG3",
           514.3393200313175,
           0.8626763114312164,
           0.5918676557147544
          ],
          [
           "NR2F6",
           515.5767080278695,
           0.8717239683374013,
           0.5918100331015229
          ],
          [
           "PCNA",
           513.3065394987623,
           0.8608511906167895,
           0.5916905613240151
          ],
          [
           "DCTPP1",
           503.41717873891827,
           0.9090087141866798,
           0.5914167909800129
          ],
          [
           "KIF18B",
           552.7470639872832,
           0.7748230975905844,
           0.5913213016263864
          ],
          [
           "FOXM1",
           567.3911124819094,
           0.7401725309720737,
           0.5910678032862692
          ],
          [
           "MAD2L1",
           533.1047474435929,
           0.8052271574011425,
           0.5910638221685434
          ],
          [
           "PYCRL",
           524.3553425545881,
           0.8382896094715604,
           0.5910026445822302
          ],
          [
           "RAD54L",
           540.4608729349055,
           0.7908426787999805,
           0.5909401156610156
          ],
          [
           "BGN",
           525.7291355271378,
           0.8187932592125787,
           0.5901234063962807
          ],
          [
           "BIRC5",
           559.1288682214682,
           0.7541894936930684,
           0.5898983193584215
          ],
          [
           "TIMELESS",
           511.3676401970786,
           0.8553560518252397,
           0.5897933573535867
          ],
          [
           "TUBA1C",
           505.8237522440231,
           0.898699333823108,
           0.5897420472968797
          ],
          [
           "PSMC4",
           560.8729032717265,
           0.7574718260650286,
           0.5895009723035561
          ],
          [
           "CENPA",
           547.1154871210863,
           0.7693808647375848,
           0.5893915892280719
          ],
          [
           "SBK1",
           518.3048075478264,
           0.831009176283647,
           0.5889491618967552
          ],
          [
           "TRIM59",
           515.0700609741631,
           0.8572396841726346,
           0.587597453245278
          ],
          [
           "INHBA",
           519.0258052781007,
           0.8106465012887281,
           0.5872730465546138
          ]
         ],
         "hovertemplate": "T Score=%{x}<br>Entropy=%{y}<br>ROC AUC=%{marker.size}<br>Gene=%{customdata[0]}<br>Wilcoxon=%{customdata[1]}<br>SNR=%{customdata[2]}<br>AHP Score=%{marker.color}<extra></extra>",
         "legendgroup": "",
         "marker": {
          "color": [
           0.7152317537367201,
           0.7130781804655302,
           0.7043986860341099,
           0.6934312347042819,
           0.6892215755460804,
           0.688696136073962,
           0.6884948335259449,
           0.688358703605768,
           0.6865399566102826,
           0.6844121510787537,
           0.6826730023434057,
           0.6820693359501595,
           0.6788864273380267,
           0.6785984460517912,
           0.6781802706721691,
           0.673665151342688,
           0.6734072572145726,
           0.6733593283728448,
           0.6722627769503448,
           0.6706621121679907,
           0.6684573913390953,
           0.6677805729669619,
           0.6651557108281666,
           0.6645852061589527,
           0.6638250995923219,
           0.6634542959279935,
           0.6615898232260113,
           0.6611261699580157,
           0.6597416280298182,
           0.6591412897809009,
           0.6586009349699237,
           0.6563937391992481,
           0.6556996997850021,
           0.655651489733888,
           0.6547460996804909,
           0.6546842900176304,
           0.6533717983432658,
           0.6527415739327292,
           0.6526177702089253,
           0.6523964850433374,
           0.6514618290611096,
           0.6510602987370447,
           0.6506241653997041,
           0.650341900419801,
           0.6495770965791832,
           0.6484251710078274,
           0.6483072911922464,
           0.6480944186337552,
           0.646905367883383,
           0.6467180243364796,
           0.6457202597339141,
           0.6443949699770868,
           0.6435365389631603,
           0.6434676417195027,
           0.642055976127196,
           0.6417506150559164,
           0.6408106956140897,
           0.6379283842986134,
           0.6378602847841515,
           0.6374862364108269,
           0.6362629112496425,
           0.6356606770904916,
           0.6355555683907742,
           0.6337537251529195,
           0.6331933125386116,
           0.633105437846275,
           0.6330625864142785,
           0.6327547118322074,
           0.6327140030646099,
           0.6323324815239435,
           0.6316328662953867,
           0.6316224420258789,
           0.6307957510950787,
           0.6305228601743174,
           0.6303504356660624,
           0.6285666510130895,
           0.6279183517475624,
           0.6273813691553226,
           0.6269009686911611,
           0.6263180182799367,
           0.6256827566870913,
           0.6256442450473517,
           0.6254837468109306,
           0.6254480707068131,
           0.624276815541141,
           0.623935899330989,
           0.6235471947552547,
           0.6234192041030938,
           0.6231069128492608,
           0.6230939391489646,
           0.6229324404327807,
           0.6225629855269162,
           0.6222198353907463,
           0.6220950712499228,
           0.6216066588770686,
           0.6214608648251677,
           0.6213788884669078,
           0.6213449511593709,
           0.620816575681922,
           0.6200626445441254,
           0.6198108517080332,
           0.619448581558699,
           0.6192363239114707,
           0.6189493149853356,
           0.6182825644783932,
           0.6181837065118659,
           0.6179752502164949,
           0.617906273608192,
           0.6175430121187582,
           0.61740338053096,
           0.6173906060348091,
           0.6170586624894252,
           0.6169997325684295,
           0.6168035671288465,
           0.614846151206576,
           0.6146644681835467,
           0.6141713461222303,
           0.6141490564233866,
           0.6140091758919459,
           0.6137314334150915,
           0.613722427932981,
           0.6133873650522907,
           0.6124868704942974,
           0.6120890001532198,
           0.6120192239888398,
           0.6115366516518423,
           0.6094657198875189,
           0.609309169871473,
           0.6083616519927779,
           0.6082657620065228,
           0.6080019439982457,
           0.6076628476278582,
           0.6074203787267415,
           0.6073346943976162,
           0.606925910174866,
           0.6065241189232411,
           0.6062769352066238,
           0.606116290445789,
           0.6056890838172919,
           0.6052350469206058,
           0.6051971899265695,
           0.6050249697568105,
           0.6048145220465161,
           0.6046987999992679,
           0.604694297778988,
           0.6046761429778653,
           0.6044976662094749,
           0.6037400977335481,
           0.6034508266280684,
           0.6032319739067505,
           0.6031241884383369,
           0.6030967540344943,
           0.6029636431189543,
           0.6028166083197743,
           0.6026615408253458,
           0.6021161571103639,
           0.6014779361926441,
           0.6005654305372745,
           0.6003073650091555,
           0.5999532127202319,
           0.5995051840831185,
           0.5994316887033151,
           0.5994125771794379,
           0.5993366728300186,
           0.5989680410761796,
           0.5982248304491282,
           0.5978204113135076,
           0.5973019189062112,
           0.5967951126623442,
           0.5967834516988668,
           0.5964468894311868,
           0.5964031421740175,
           0.5962534047877474,
           0.5956122988538962,
           0.5949841923114982,
           0.5947112921582811,
           0.5939117941594863,
           0.5938995777576971,
           0.5934904739797017,
           0.5929579763614407,
           0.5925907046807265,
           0.5921611621320849,
           0.5918676557147544,
           0.5918100331015229,
           0.5916905613240151,
           0.5914167909800129,
           0.5913213016263864,
           0.5910678032862692,
           0.5910638221685434,
           0.5910026445822302,
           0.5909401156610156,
           0.5901234063962807,
           0.5898983193584215,
           0.5897933573535867,
           0.5897420472968797,
           0.5895009723035561,
           0.5893915892280719,
           0.5889491618967552,
           0.587597453245278,
           0.5872730465546138
          ],
          "coloraxis": "coloraxis",
          "size": [
           0.9836927724659343,
           0.954771564370843,
           0.9628935443308264,
           0.9705568340885905,
           0.9743687078380665,
           0.9730321794902211,
           0.9586229803791312,
           0.96903841135021,
           0.9748748487508601,
           0.9551195362483885,
           0.96903841135021,
           0.9787025394038609,
           0.9752939966942673,
           0.9609876074560884,
           0.9675990731294534,
           0.9632177908530846,
           0.9543049657168616,
           0.9655112418641801,
           0.9707703622861753,
           0.9724944047703781,
           0.9667133265320649,
           0.9560131912975396,
           0.9548585573402295,
           0.9493305495583131,
           0.9607661708067412,
           0.9750172008825831,
           0.9753572643083664,
           0.9601730369245614,
           0.9928112173479797,
           0.9541309797780888,
           0.9421892176168671,
           0.9396031538905629,
           0.9586862479932304,
           0.9597617974329166,
           0.9593980086518462,
           0.9674646294494926,
           0.9674329956424431,
           0.9702404960180945,
           0.9686508972138524,
           0.9474087957800502,
           0.9518058949599436,
           0.9677414252611766,
           0.9691174958678339,
           0.9656456855441411,
           0.9377842099852112,
           0.9617863610840905,
           0.9480889226316164,
           0.949710155242908,
           0.9618100864393777,
           0.9651158192760602,
           0.9573418111936224,
           0.9657880376758641,
           0.971996172309347,
           0.9623241358039337,
           0.9357438294305123,
           0.9568989378949284,
           0.9675437139671167,
           0.9487215987726083,
           0.9405758934573378,
           0.9239523278527764,
           0.9674409040942055,
           0.9534508529265223,
           0.9410978512736562,
           0.9547952897261305,
           0.945384232128876,
           0.9388913932319471,
           0.9364476816373658,
           0.9514974653412102,
           0.9457875631687586,
           0.9384406114814902,
           0.9851479275902157,
           0.9602363045386606,
           0.9581168394663376,
           0.9691254043195964,
           0.949014211487817,
           0.9427665345955222,
           0.9619682554746257,
           0.9538858177734545,
           0.955601951805895,
           0.9537750994487809,
           0.9268389127460517,
           0.9418017034805097,
           0.9453684152253514,
           0.9543840502344856,
           0.932778160019613,
           0.9565825998244324,
           0.933553188292328,
           0.9568831209914035,
           0.9724469540598037,
           0.942900978275483,
           0.9252097716829977,
           0.9514658315341605,
           0.9502321130592265,
           0.9538383670628799,
           0.9636527557000166,
           0.9664048969133311,
           0.9599832340822637,
           0.9284680538091057,
           0.9615411990794562,
           0.9566063251797196,
           0.9502162961557015,
           0.9416988936075985,
           0.9554991419329839,
           0.9376339494017255,
           0.9415723583794001,
           0.930832680886063,
           0.9666342420144406,
           0.9622608681898345,
           0.9334424699676545,
           0.9380689142486575,
           0.9368114704184362,
           0.9415960837346873,
           0.9395557031799885,
           0.9229321375754268,
           0.9521617752892516,
           0.9290690961430481,
           0.9591449381954495,
           0.9323431951726812,
           0.9412402034053794,
           0.9365663084138018,
           0.9158777986033675,
           0.9467840280908206,
           0.9499395003440175,
           0.9569226632502155,
           0.957666057715881,
           0.9244980110243817,
           0.9544789516556343,
           0.9123664460208625,
           0.9482945423774388,
           0.9515370076000221,
           0.9201246371997753,
           0.911164361352978,
           0.9211606443806496,
           0.9149446012954044,
           0.9324222796903051,
           0.9560290082010645,
           0.9672511012519079,
           0.9244347434102825,
           0.9324064627867803,
           0.9209629330865896,
           0.9579507619793273,
           0.9344863856002911,
           0.9285392298749674,
           0.9228372361542783,
           0.9336085474546647,
           0.9149208759401172,
           0.9578084098476041,
           0.9179181791580662,
           0.9151897633000389,
           0.928491779164393,
           0.9431856825389294,
           0.9498920496334433,
           0.9275427649529052,
           0.9328730614407617,
           0.8943351760025939,
           0.920773130244292,
           0.9257475464028406,
           0.9380372804416081,
           0.950643352550871,
           0.9385908720649759,
           0.9312360119259453,
           0.9445617531455867,
           0.915253030914138,
           0.9257000956922663,
           0.9083331356220392,
           0.9485634297373603,
           0.9653214390218826,
           0.9195077779623083,
           0.925968983052188,
           0.9452814222559649,
           0.9217379613593046,
           0.9337113573275759,
           0.9076688256739978,
           0.9308089555307758,
           0.941232294953617,
           0.9153400238835243,
           0.9494887185935609,
           0.9108954739930564,
           0.942189217616867,
           0.9124218051831993,
           0.9303028146179824,
           0.925755454854603,
           0.9174832143111343,
           0.918487587684959,
           0.9166449184243202,
           0.9086178398854855,
           0.9486583311585091,
           0.9605447341573939,
           0.9327148924055138,
           0.9256131027228799,
           0.9386857734861246,
           0.9267281944213781,
           0.9538383670628802,
           0.9150711365236027,
           0.910571227470798,
           0.9552539799283495,
           0.9440872460398428,
           0.9207019541784305,
           0.9180763481933142,
           0.921287179608848
          ],
          "sizemode": "area",
          "sizeref": 0.0024820280433699494,
          "symbol": "circle"
         },
         "mode": "markers",
         "name": "",
         "orientation": "v",
         "showlegend": false,
         "type": "scatter",
         "x": [
          39.48764249644442,
          40.87860660382885,
          39.21849508614826,
          37.52889987388123,
          36.878136949051544,
          36.8048497074003,
          36.49045796194785,
          36.6962712305015,
          36.59989542981674,
          36.09109912214541,
          36.37931276172451,
          35.78408054493678,
          35.64856934200779,
          36.45220195330309,
          35.933057517378955,
          35.411027147267816,
          35.399911386035356,
          35.36307513321381,
          34.81530279869802,
          34.767875603340826,
          34.872786623840824,
          35.39281798817187,
          34.6006324022013,
          35.10164389691522,
          34.861822741791514,
          33.514530616726226,
          33.4543417250367,
          34.19612585206117,
          31.55989056386588,
          32.46932931422723,
          34.837376345466105,
          35.43543042445275,
          33.918366314740375,
          32.76465910898085,
          33.3202911342464,
          33.24734100441271,
          32.94482718822875,
          32.8094807081814,
          32.91082648313295,
          34.016594938454325,
          33.76507981874696,
          32.75695343274074,
          32.60897847178066,
          32.71076753769712,
          34.67457159226654,
          32.68291712325543,
          33.68692392081669,
          32.471156528408194,
          32.66778873933764,
          32.38214377955003,
          32.89111963967718,
          32.10961039880194,
          31.520880560563775,
          32.22231572148091,
          33.35668515745574,
          32.05444610236146,
          31.506627429636577,
          31.886809220036174,
          32.233911026994186,
          33.228196511615614,
          30.973818721728836,
          31.549460672018924,
          31.703139328005363,
          30.788606380559273,
          31.569290605994947,
          32.60840706370454,
          31.208013357241477,
          31.366572376795336,
          31.847583224757596,
          30.86731627865379,
          28.71472312726855,
          30.897894591564004,
          30.655402459451945,
          30.166090204077953,
          31.239201868428115,
          31.64105233251974,
          30.36326919509232,
          30.340267572168454,
          30.634714571872763,
          30.711912687256508,
          31.874596111703696,
          31.376663795819642,
          31.098381258510774,
          30.624814959999988,
          31.642567866434003,
          30.28981711625311,
          30.912242019804815,
          30.1044965645367,
          28.997101615920776,
          30.46424258514585,
          31.140440140809865,
          30.47752851029453,
          30.552904019952855,
          30.14702274640576,
          29.46162644374375,
          29.253608240639746,
          29.717121028748025,
          30.954114036096815,
          29.539560565712364,
          29.769810276580852,
          29.998534857999147,
          30.595836289946323,
          29.541994150004605,
          30.6434234248373,
          30.165869461813777,
          29.653102391425826,
          28.810415067785602,
          29.109043639740406,
          30.022753505587442,
          30.809860780166243,
          29.6850064097752,
          30.26016526160882,
          30.165837277249555,
          30.02969981748435,
          29.413022554940152,
          30.503244060074827,
          28.870275014941853,
          29.076738057066745,
          29.177449280427584,
          30.087214472543184,
          31.467038628711695,
          29.50308611538871,
          29.33105239529608,
          28.810510764537128,
          28.725454598983173,
          30.865225162555472,
          28.609763843988794,
          31.332078128665444,
          28.61473357980583,
          28.51522423611096,
          29.572014420167175,
          31.092358818462294,
          28.763136445460624,
          30.4593436294597,
          29.840252018737356,
          28.123111222191458,
          27.319104129377564,
          28.41820877981836,
          29.506745814930163,
          29.713210684054044,
          27.865922934020293,
          28.847810102717393,
          29.128181687039092,
          30.112206108049993,
          28.308175185878536,
          30.199131945136713,
          27.81127933779902,
          29.34859029837079,
          30.065122738842618,
          27.722436546753862,
          28.72278112960843,
          28.231598785285453,
          28.636354210591634,
          29.334103695837968,
          32.04363821076729,
          29.514468550267804,
          27.95834794930959,
          28.58204971197705,
          27.798772051555527,
          28.34912587792413,
          29.133410843707853,
          28.112715197780226,
          29.103345636624702,
          28.957240289185297,
          29.61919759021399,
          27.653629360079048,
          26.43073842510514,
          28.207824890535477,
          28.961653659266524,
          27.794509119025395,
          28.680485586195324,
          28.03457509210303,
          30.461035827994287,
          28.27408847716745,
          27.82037988255895,
          28.57280704237944,
          27.12639861814887,
          29.61045785895707,
          27.425686684067365,
          28.69598511128549,
          28.397523452868903,
          27.800786550227176,
          28.61566242141277,
          28.268517791577978,
          28.724519664997963,
          28.545122197521533,
          26.679626745419405,
          25.958751188734457,
          27.898063020150172,
          27.997521752337263,
          27.46656038779061,
          28.064383685764092,
          26.225749927527534,
          28.661528763867334,
          28.195883903575776,
          25.891709638055037,
          26.979121277639884,
          28.35674091821272,
          27.795940316866808,
          28.415290693304648
         ],
         "xaxis": "x",
         "y": [
          119.51934677372796,
          92539.62439647832,
          12645.0785772251,
          89.80686612978016,
          635.5987523376951,
          1901.2014124792538,
          13461.120169202,
          83.03657479667802,
          133.95973236704782,
          14102.631870338742,
          2133.200870181231,
          3369.7206934755436,
          365.02285099429565,
          549.2511360082798,
          52.96005192889903,
          1972.7681540041663,
          11864.679377028,
          37.238557182703275,
          13380.72211251399,
          1159.9671073461354,
          86.06212909651434,
          72177.18437165531,
          4664.755636309077,
          18679.827748493983,
          0.5365244936894377,
          9019.257158700193,
          13707.840130392658,
          1625.7123251634787,
          317978.3648525756,
          817.1857548701411,
          2887.259597814066,
          6118.092200925035,
          781.5512196515704,
          10831.907872126374,
          942.0929940036045,
          1558.7756264884144,
          158.8519781442645,
          2942.3059146176533,
          1697.6492197155335,
          2369.8818040614065,
          50.56307202637553,
          1139.7026967437196,
          712.1843404982118,
          143.41535794231396,
          1274.8451461444783,
          2328.139945345832,
          70.31517697500463,
          29753.282168285376,
          106.51089866713829,
          159.74365079689915,
          1005.9874562093185,
          1014.918349653295,
          2551.3099431135392,
          215.45013895996055,
          4360.704740203485,
          391.3348087781182,
          299.4914173971266,
          18813.10177299853,
          99.34464693699027,
          3714.9398770921434,
          1233.653163753008,
          323.1171151420931,
          302.86086641234135,
          679.3467097384224,
          39046.45571338152,
          998.156203457778,
          592.4587432100628,
          291.71709631401785,
          44.308874662523884,
          43517.871587589216,
          24096.82442642621,
          411.30716913946844,
          94.64584681551595,
          534.8333869912967,
          163.17338469836344,
          287.60590739635006,
          562.645233545697,
          124.00009414348354,
          1027.8456320701755,
          840.7080268381828,
          402.9566199117813,
          15.147528298329119,
          162.87611808434755,
          350.83188828469764,
          1299.2474243749782,
          668.3402647446413,
          14109.105663643533,
          387.17327970393853,
          659.734229083161,
          1413.1915350722004,
          2136.55122907133,
          122.05144235160434,
          36.02108485177557,
          14.460432933444816,
          660.6515714867211,
          892.2469878649835,
          671.1227729519281,
          587.6666132671827,
          515.4124449870961,
          328.0295297827951,
          97.63444303224382,
          4248.21864301297,
          217.818126189478,
          2037.7191879820466,
          280.1055562046353,
          345.1378483117266,
          42.93938576715488,
          24405.099433878724,
          2032.184826933486,
          387.8111469870035,
          3796.1407826617997,
          75.16467648542938,
          1332.2569340568207,
          1201.8696525140108,
          736.5495039548471,
          104.65802576832249,
          380.54278888521213,
          11513.199309355708,
          11.799285288541107,
          392.6346088056628,
          16853.72520556235,
          57.00097115324682,
          2318.9001607321675,
          60.334240349778064,
          859.059439228278,
          601.75945034371,
          83.28921409371301,
          727.4865767017477,
          342.4167044829081,
          106.0628074881107,
          581.1603179883275,
          5614.936408217081,
          23.869473728605087,
          374.2237319825802,
          167.16665293035038,
          1519.790867736664,
          13121.922803449288,
          2391.288747111166,
          1061.781286112132,
          463.49651630124475,
          807.8245559007931,
          7395.778361753319,
          21646.865698221656,
          36.8657307701504,
          4543.414202441708,
          670.6843873653634,
          4367.196575297346,
          9570.655478785064,
          311.59884397147687,
          419746.82095117867,
          25440.142600982264,
          32.99545526823389,
          2445.9049456134426,
          2251.610472607325,
          74593.35539691533,
          37447.39292453879,
          1752.1735697861404,
          3996.6925025332007,
          894.5690450522054,
          40.57231397795382,
          2235.6234518103092,
          17.022988835903693,
          646.7040438520959,
          10.508575251657705,
          440.8992793874953,
          79.69133962419414,
          34.062423739298026,
          33645.157991096756,
          810.316222618601,
          528.2780804909011,
          865.8620195466847,
          112.86539322864662,
          589.1802782113862,
          44.98906332261135,
          15.61709658048309,
          365.0554262323339,
          855.8651999532055,
          670.8985637890005,
          492.2504496795294,
          13198.576049276888,
          14.01805471583049,
          8813.599686790334,
          1377.718076710291,
          2705.6953278884457,
          12598.92011411269,
          4599.214549556761,
          58.775047730304024,
          2073.9713222485693,
          474.48130372898464,
          505.9061652721495,
          64.01161499680155,
          530848.6155213689,
          2597.353709228338,
          305.45420489874755,
          38688.74669730372,
          8451.157982674807,
          241.73676910180097,
          362.30068780457975,
          58.80352227840412,
          1093.9280947760672
         ],
         "yaxis": "y"
        }
       ],
       "layout": {
        "coloraxis": {
         "colorbar": {
          "title": {
           "text": "AHP Score"
          }
         },
         "colorscale": [
          [
           0,
           "#440154"
          ],
          [
           0.1111111111111111,
           "#482878"
          ],
          [
           0.2222222222222222,
           "#3e4989"
          ],
          [
           0.3333333333333333,
           "#31688e"
          ],
          [
           0.4444444444444444,
           "#26828e"
          ],
          [
           0.5555555555555556,
           "#1f9e89"
          ],
          [
           0.6666666666666666,
           "#35b779"
          ],
          [
           0.7777777777777778,
           "#6ece58"
          ],
          [
           0.8888888888888888,
           "#b5de2b"
          ],
          [
           1,
           "#fde725"
          ]
         ]
        },
        "legend": {
         "itemsizing": "constant",
         "tracegroupgap": 0
        },
        "template": {
         "data": {
          "bar": [
           {
            "error_x": {
             "color": "#2a3f5f"
            },
            "error_y": {
             "color": "#2a3f5f"
            },
            "marker": {
             "line": {
              "color": "#E5ECF6",
              "width": 0.5
             },
             "pattern": {
              "fillmode": "overlay",
              "size": 10,
              "solidity": 0.2
             }
            },
            "type": "bar"
           }
          ],
          "barpolar": [
           {
            "marker": {
             "line": {
              "color": "#E5ECF6",
              "width": 0.5
             },
             "pattern": {
              "fillmode": "overlay",
              "size": 10,
              "solidity": 0.2
             }
            },
            "type": "barpolar"
           }
          ],
          "carpet": [
           {
            "aaxis": {
             "endlinecolor": "#2a3f5f",
             "gridcolor": "white",
             "linecolor": "white",
             "minorgridcolor": "white",
             "startlinecolor": "#2a3f5f"
            },
            "baxis": {
             "endlinecolor": "#2a3f5f",
             "gridcolor": "white",
             "linecolor": "white",
             "minorgridcolor": "white",
             "startlinecolor": "#2a3f5f"
            },
            "type": "carpet"
           }
          ],
          "choropleth": [
           {
            "colorbar": {
             "outlinewidth": 0,
             "ticks": ""
            },
            "type": "choropleth"
           }
          ],
          "contour": [
           {
            "colorbar": {
             "outlinewidth": 0,
             "ticks": ""
            },
            "colorscale": [
             [
              0,
              "#0d0887"
             ],
             [
              0.1111111111111111,
              "#46039f"
             ],
             [
              0.2222222222222222,
              "#7201a8"
             ],
             [
              0.3333333333333333,
              "#9c179e"
             ],
             [
              0.4444444444444444,
              "#bd3786"
             ],
             [
              0.5555555555555556,
              "#d8576b"
             ],
             [
              0.6666666666666666,
              "#ed7953"
             ],
             [
              0.7777777777777778,
              "#fb9f3a"
             ],
             [
              0.8888888888888888,
              "#fdca26"
             ],
             [
              1,
              "#f0f921"
             ]
            ],
            "type": "contour"
           }
          ],
          "contourcarpet": [
           {
            "colorbar": {
             "outlinewidth": 0,
             "ticks": ""
            },
            "type": "contourcarpet"
           }
          ],
          "heatmap": [
           {
            "colorbar": {
             "outlinewidth": 0,
             "ticks": ""
            },
            "colorscale": [
             [
              0,
              "#0d0887"
             ],
             [
              0.1111111111111111,
              "#46039f"
             ],
             [
              0.2222222222222222,
              "#7201a8"
             ],
             [
              0.3333333333333333,
              "#9c179e"
             ],
             [
              0.4444444444444444,
              "#bd3786"
             ],
             [
              0.5555555555555556,
              "#d8576b"
             ],
             [
              0.6666666666666666,
              "#ed7953"
             ],
             [
              0.7777777777777778,
              "#fb9f3a"
             ],
             [
              0.8888888888888888,
              "#fdca26"
             ],
             [
              1,
              "#f0f921"
             ]
            ],
            "type": "heatmap"
           }
          ],
          "heatmapgl": [
           {
            "colorbar": {
             "outlinewidth": 0,
             "ticks": ""
            },
            "colorscale": [
             [
              0,
              "#0d0887"
             ],
             [
              0.1111111111111111,
              "#46039f"
             ],
             [
              0.2222222222222222,
              "#7201a8"
             ],
             [
              0.3333333333333333,
              "#9c179e"
             ],
             [
              0.4444444444444444,
              "#bd3786"
             ],
             [
              0.5555555555555556,
              "#d8576b"
             ],
             [
              0.6666666666666666,
              "#ed7953"
             ],
             [
              0.7777777777777778,
              "#fb9f3a"
             ],
             [
              0.8888888888888888,
              "#fdca26"
             ],
             [
              1,
              "#f0f921"
             ]
            ],
            "type": "heatmapgl"
           }
          ],
          "histogram": [
           {
            "marker": {
             "pattern": {
              "fillmode": "overlay",
              "size": 10,
              "solidity": 0.2
             }
            },
            "type": "histogram"
           }
          ],
          "histogram2d": [
           {
            "colorbar": {
             "outlinewidth": 0,
             "ticks": ""
            },
            "colorscale": [
             [
              0,
              "#0d0887"
             ],
             [
              0.1111111111111111,
              "#46039f"
             ],
             [
              0.2222222222222222,
              "#7201a8"
             ],
             [
              0.3333333333333333,
              "#9c179e"
             ],
             [
              0.4444444444444444,
              "#bd3786"
             ],
             [
              0.5555555555555556,
              "#d8576b"
             ],
             [
              0.6666666666666666,
              "#ed7953"
             ],
             [
              0.7777777777777778,
              "#fb9f3a"
             ],
             [
              0.8888888888888888,
              "#fdca26"
             ],
             [
              1,
              "#f0f921"
             ]
            ],
            "type": "histogram2d"
           }
          ],
          "histogram2dcontour": [
           {
            "colorbar": {
             "outlinewidth": 0,
             "ticks": ""
            },
            "colorscale": [
             [
              0,
              "#0d0887"
             ],
             [
              0.1111111111111111,
              "#46039f"
             ],
             [
              0.2222222222222222,
              "#7201a8"
             ],
             [
              0.3333333333333333,
              "#9c179e"
             ],
             [
              0.4444444444444444,
              "#bd3786"
             ],
             [
              0.5555555555555556,
              "#d8576b"
             ],
             [
              0.6666666666666666,
              "#ed7953"
             ],
             [
              0.7777777777777778,
              "#fb9f3a"
             ],
             [
              0.8888888888888888,
              "#fdca26"
             ],
             [
              1,
              "#f0f921"
             ]
            ],
            "type": "histogram2dcontour"
           }
          ],
          "mesh3d": [
           {
            "colorbar": {
             "outlinewidth": 0,
             "ticks": ""
            },
            "type": "mesh3d"
           }
          ],
          "parcoords": [
           {
            "line": {
             "colorbar": {
              "outlinewidth": 0,
              "ticks": ""
             }
            },
            "type": "parcoords"
           }
          ],
          "pie": [
           {
            "automargin": true,
            "type": "pie"
           }
          ],
          "scatter": [
           {
            "fillpattern": {
             "fillmode": "overlay",
             "size": 10,
             "solidity": 0.2
            },
            "type": "scatter"
           }
          ],
          "scatter3d": [
           {
            "line": {
             "colorbar": {
              "outlinewidth": 0,
              "ticks": ""
             }
            },
            "marker": {
             "colorbar": {
              "outlinewidth": 0,
              "ticks": ""
             }
            },
            "type": "scatter3d"
           }
          ],
          "scattercarpet": [
           {
            "marker": {
             "colorbar": {
              "outlinewidth": 0,
              "ticks": ""
             }
            },
            "type": "scattercarpet"
           }
          ],
          "scattergeo": [
           {
            "marker": {
             "colorbar": {
              "outlinewidth": 0,
              "ticks": ""
             }
            },
            "type": "scattergeo"
           }
          ],
          "scattergl": [
           {
            "marker": {
             "colorbar": {
              "outlinewidth": 0,
              "ticks": ""
             }
            },
            "type": "scattergl"
           }
          ],
          "scattermapbox": [
           {
            "marker": {
             "colorbar": {
              "outlinewidth": 0,
              "ticks": ""
             }
            },
            "type": "scattermapbox"
           }
          ],
          "scatterpolar": [
           {
            "marker": {
             "colorbar": {
              "outlinewidth": 0,
              "ticks": ""
             }
            },
            "type": "scatterpolar"
           }
          ],
          "scatterpolargl": [
           {
            "marker": {
             "colorbar": {
              "outlinewidth": 0,
              "ticks": ""
             }
            },
            "type": "scatterpolargl"
           }
          ],
          "scatterternary": [
           {
            "marker": {
             "colorbar": {
              "outlinewidth": 0,
              "ticks": ""
             }
            },
            "type": "scatterternary"
           }
          ],
          "surface": [
           {
            "colorbar": {
             "outlinewidth": 0,
             "ticks": ""
            },
            "colorscale": [
             [
              0,
              "#0d0887"
             ],
             [
              0.1111111111111111,
              "#46039f"
             ],
             [
              0.2222222222222222,
              "#7201a8"
             ],
             [
              0.3333333333333333,
              "#9c179e"
             ],
             [
              0.4444444444444444,
              "#bd3786"
             ],
             [
              0.5555555555555556,
              "#d8576b"
             ],
             [
              0.6666666666666666,
              "#ed7953"
             ],
             [
              0.7777777777777778,
              "#fb9f3a"
             ],
             [
              0.8888888888888888,
              "#fdca26"
             ],
             [
              1,
              "#f0f921"
             ]
            ],
            "type": "surface"
           }
          ],
          "table": [
           {
            "cells": {
             "fill": {
              "color": "#EBF0F8"
             },
             "line": {
              "color": "white"
             }
            },
            "header": {
             "fill": {
              "color": "#C8D4E3"
             },
             "line": {
              "color": "white"
             }
            },
            "type": "table"
           }
          ]
         },
         "layout": {
          "annotationdefaults": {
           "arrowcolor": "#2a3f5f",
           "arrowhead": 0,
           "arrowwidth": 1
          },
          "autotypenumbers": "strict",
          "coloraxis": {
           "colorbar": {
            "outlinewidth": 0,
            "ticks": ""
           }
          },
          "colorscale": {
           "diverging": [
            [
             0,
             "#8e0152"
            ],
            [
             0.1,
             "#c51b7d"
            ],
            [
             0.2,
             "#de77ae"
            ],
            [
             0.3,
             "#f1b6da"
            ],
            [
             0.4,
             "#fde0ef"
            ],
            [
             0.5,
             "#f7f7f7"
            ],
            [
             0.6,
             "#e6f5d0"
            ],
            [
             0.7,
             "#b8e186"
            ],
            [
             0.8,
             "#7fbc41"
            ],
            [
             0.9,
             "#4d9221"
            ],
            [
             1,
             "#276419"
            ]
           ],
           "sequential": [
            [
             0,
             "#0d0887"
            ],
            [
             0.1111111111111111,
             "#46039f"
            ],
            [
             0.2222222222222222,
             "#7201a8"
            ],
            [
             0.3333333333333333,
             "#9c179e"
            ],
            [
             0.4444444444444444,
             "#bd3786"
            ],
            [
             0.5555555555555556,
             "#d8576b"
            ],
            [
             0.6666666666666666,
             "#ed7953"
            ],
            [
             0.7777777777777778,
             "#fb9f3a"
            ],
            [
             0.8888888888888888,
             "#fdca26"
            ],
            [
             1,
             "#f0f921"
            ]
           ],
           "sequentialminus": [
            [
             0,
             "#0d0887"
            ],
            [
             0.1111111111111111,
             "#46039f"
            ],
            [
             0.2222222222222222,
             "#7201a8"
            ],
            [
             0.3333333333333333,
             "#9c179e"
            ],
            [
             0.4444444444444444,
             "#bd3786"
            ],
            [
             0.5555555555555556,
             "#d8576b"
            ],
            [
             0.6666666666666666,
             "#ed7953"
            ],
            [
             0.7777777777777778,
             "#fb9f3a"
            ],
            [
             0.8888888888888888,
             "#fdca26"
            ],
            [
             1,
             "#f0f921"
            ]
           ]
          },
          "colorway": [
           "#636efa",
           "#EF553B",
           "#00cc96",
           "#ab63fa",
           "#FFA15A",
           "#19d3f3",
           "#FF6692",
           "#B6E880",
           "#FF97FF",
           "#FECB52"
          ],
          "font": {
           "color": "#2a3f5f"
          },
          "geo": {
           "bgcolor": "white",
           "lakecolor": "white",
           "landcolor": "#E5ECF6",
           "showlakes": true,
           "showland": true,
           "subunitcolor": "white"
          },
          "hoverlabel": {
           "align": "left"
          },
          "hovermode": "closest",
          "mapbox": {
           "style": "light"
          },
          "paper_bgcolor": "white",
          "plot_bgcolor": "#E5ECF6",
          "polar": {
           "angularaxis": {
            "gridcolor": "white",
            "linecolor": "white",
            "ticks": ""
           },
           "bgcolor": "#E5ECF6",
           "radialaxis": {
            "gridcolor": "white",
            "linecolor": "white",
            "ticks": ""
           }
          },
          "scene": {
           "xaxis": {
            "backgroundcolor": "#E5ECF6",
            "gridcolor": "white",
            "gridwidth": 2,
            "linecolor": "white",
            "showbackground": true,
            "ticks": "",
            "zerolinecolor": "white"
           },
           "yaxis": {
            "backgroundcolor": "#E5ECF6",
            "gridcolor": "white",
            "gridwidth": 2,
            "linecolor": "white",
            "showbackground": true,
            "ticks": "",
            "zerolinecolor": "white"
           },
           "zaxis": {
            "backgroundcolor": "#E5ECF6",
            "gridcolor": "white",
            "gridwidth": 2,
            "linecolor": "white",
            "showbackground": true,
            "ticks": "",
            "zerolinecolor": "white"
           }
          },
          "shapedefaults": {
           "line": {
            "color": "#2a3f5f"
           }
          },
          "ternary": {
           "aaxis": {
            "gridcolor": "white",
            "linecolor": "white",
            "ticks": ""
           },
           "baxis": {
            "gridcolor": "white",
            "linecolor": "white",
            "ticks": ""
           },
           "bgcolor": "#E5ECF6",
           "caxis": {
            "gridcolor": "white",
            "linecolor": "white",
            "ticks": ""
           }
          },
          "title": {
           "x": 0.05
          },
          "xaxis": {
           "automargin": true,
           "gridcolor": "white",
           "linecolor": "white",
           "ticks": "",
           "title": {
            "standoff": 15
           },
           "zerolinecolor": "white",
           "zerolinewidth": 2
          },
          "yaxis": {
           "automargin": true,
           "gridcolor": "white",
           "linecolor": "white",
           "ticks": "",
           "title": {
            "standoff": 15
           },
           "zerolinecolor": "white",
           "zerolinewidth": 2
          }
         }
        },
        "title": {
         "text": "Top 200 Most Expressive Genes Ranked by AHP Score"
        },
        "xaxis": {
         "anchor": "y",
         "domain": [
          0,
          1
         ],
         "title": {
          "text": "T Score"
         }
        },
        "yaxis": {
         "anchor": "x",
         "domain": [
          0,
          1
         ],
         "title": {
          "text": "Entropy"
         }
        }
       }
      }
     },
     "metadata": {},
     "output_type": "display_data"
    }
   ],
   "source": [
    "import plotly.express as px\n",
    "# Selecting top genes based on AHP Score for visualization\n",
    "top_genes_df = results_df.nlargest(200, 'AHP_Score')  # Selecting top 100 most expressive genes\n",
    "\n",
    "# Creating an interactive scatter plot\n",
    "fig = px.scatter(\n",
    "    top_genes_df,\n",
    "    x=\"T_Score\",\n",
    "    y=\"Entropy\",\n",
    "    size=\"ROC_AUC\",\n",
    "    color=\"AHP_Score\",\n",
    "    hover_data=[\"Gene\", \"Wilcoxon\", \"SNR\", \"AHP_Score\"],\n",
    "    title=\"Top 200 Most Expressive Genes Ranked by AHP Score\",\n",
    "    labels={\"T_Score\": \"T Score\", \"Entropy\": \"Entropy\", \"ROC_AUC\": \"ROC AUC\", \"AHP_Score\": \"AHP Score\"},\n",
    "    color_continuous_scale=\"Viridis\"\n",
    ")\n",
    "\n",
    "# Display interactive plot\n",
    "fig.show()"
   ]
  },
  {
   "cell_type": "markdown",
   "metadata": {},
   "source": [
    "As we can visually see the geen that has ranked the highest is ARF1. ADP-ribosylation factor 1 (ARF1) is a protein that helps regulate vesicle formation and transport.\n",
    "\n",
    "Function: \n",
    "* ARF1 is a key regulator of vesicle formation at the Golgi\n",
    "* It's involved in intra-Golgi transport\n",
    "* It's involved in retrograde transport between the Golgi and the endoplasmic reticulum\n",
    "* It's involved in messenger RNA transport\n",
    "* It's involved in mTORC1 activity\n",
    "* It's involved in mitochondrial dynamics and transport\n",
    "\n",
    "The Golgi apparatus, also known as the Golgi body or Golgi complex, is an organelle in cells that processes and packages proteins and lipids. \n",
    "\n",
    "Function: \n",
    "* Prepares proteins and lipids for use inside and outside the cell\n",
    "* Processes and sorts proteins for transport to their destinations\n",
    "* Synthesizes glycolipids and sphingomyelin\n",
    "* Synthesizes complex polysaccharides of the cell wall in plant cells"
   ]
  },
  {
   "cell_type": "code",
   "execution_count": 27,
   "metadata": {},
   "outputs": [
    {
     "data": {
      "text/html": [
       "<div>\n",
       "<style scoped>\n",
       "    .dataframe tbody tr th:only-of-type {\n",
       "        vertical-align: middle;\n",
       "    }\n",
       "\n",
       "    .dataframe tbody tr th {\n",
       "        vertical-align: top;\n",
       "    }\n",
       "\n",
       "    .dataframe thead th {\n",
       "        text-align: right;\n",
       "    }\n",
       "</style>\n",
       "<table border=\"1\" class=\"dataframe\">\n",
       "  <thead>\n",
       "    <tr style=\"text-align: right;\">\n",
       "      <th></th>\n",
       "      <th>Gene</th>\n",
       "      <th>T_Score</th>\n",
       "      <th>Entropy</th>\n",
       "      <th>ROC_AUC</th>\n",
       "      <th>Wilcoxon</th>\n",
       "      <th>SNR</th>\n",
       "      <th>AHP_Score</th>\n",
       "    </tr>\n",
       "  </thead>\n",
       "  <tbody>\n",
       "    <tr>\n",
       "      <th>0</th>\n",
       "      <td>1/2-SBSRNA4</td>\n",
       "      <td>0.689862</td>\n",
       "      <td>2.696670</td>\n",
       "      <td>0.431422</td>\n",
       "      <td>84.488268</td>\n",
       "      <td>0.028173</td>\n",
       "      <td>0.120588</td>\n",
       "    </tr>\n",
       "    <tr>\n",
       "      <th>1</th>\n",
       "      <td>A1BG</td>\n",
       "      <td>14.918537</td>\n",
       "      <td>248.955772</td>\n",
       "      <td>0.798042</td>\n",
       "      <td>367.187581</td>\n",
       "      <td>0.436874</td>\n",
       "      <td>0.403851</td>\n",
       "    </tr>\n",
       "    <tr>\n",
       "      <th>2</th>\n",
       "      <td>A1BG-AS1</td>\n",
       "      <td>5.487732</td>\n",
       "      <td>1.564432</td>\n",
       "      <td>0.613158</td>\n",
       "      <td>139.410757</td>\n",
       "      <td>0.234907</td>\n",
       "      <td>0.222456</td>\n",
       "    </tr>\n",
       "    <tr>\n",
       "      <th>3</th>\n",
       "      <td>A1CF</td>\n",
       "      <td>0.126623</td>\n",
       "      <td>0.063398</td>\n",
       "      <td>0.442462</td>\n",
       "      <td>70.886743</td>\n",
       "      <td>0.005238</td>\n",
       "      <td>0.112992</td>\n",
       "    </tr>\n",
       "    <tr>\n",
       "      <th>4</th>\n",
       "      <td>A2LD1</td>\n",
       "      <td>2.457139</td>\n",
       "      <td>6.593280</td>\n",
       "      <td>0.471652</td>\n",
       "      <td>34.924545</td>\n",
       "      <td>0.081503</td>\n",
       "      <td>0.127181</td>\n",
       "    </tr>\n",
       "  </tbody>\n",
       "</table>\n",
       "</div>"
      ],
      "text/plain": [
       "          Gene    T_Score     Entropy   ROC_AUC    Wilcoxon       SNR  \\\n",
       "0  1/2-SBSRNA4   0.689862    2.696670  0.431422   84.488268  0.028173   \n",
       "1         A1BG  14.918537  248.955772  0.798042  367.187581  0.436874   \n",
       "2     A1BG-AS1   5.487732    1.564432  0.613158  139.410757  0.234907   \n",
       "3         A1CF   0.126623    0.063398  0.442462   70.886743  0.005238   \n",
       "4        A2LD1   2.457139    6.593280  0.471652   34.924545  0.081503   \n",
       "\n",
       "   AHP_Score  \n",
       "0   0.120588  \n",
       "1   0.403851  \n",
       "2   0.222456  \n",
       "3   0.112992  \n",
       "4   0.127181  "
      ]
     },
     "execution_count": 27,
     "metadata": {},
     "output_type": "execute_result"
    }
   ],
   "source": [
    "results_df.head()"
   ]
  },
  {
   "cell_type": "code",
   "execution_count": 28,
   "metadata": {},
   "outputs": [],
   "source": [
    "results_df.to_csv(\"./data/AHPRankedGenes.csv\", index=False)"
   ]
  }
 ],
 "metadata": {
  "kernelspec": {
   "display_name": "Python 3",
   "language": "python",
   "name": "python3"
  },
  "language_info": {
   "codemirror_mode": {
    "name": "ipython",
    "version": 3
   },
   "file_extension": ".py",
   "mimetype": "text/x-python",
   "name": "python",
   "nbconvert_exporter": "python",
   "pygments_lexer": "ipython3",
   "version": "3.10.4"
  }
 },
 "nbformat": 4,
 "nbformat_minor": 2
}
