{
 "cells": [
  {
   "cell_type": "markdown",
   "metadata": {},
   "source": [
    "## Importing Data"
   ]
  },
  {
   "cell_type": "code",
   "execution_count": 18,
   "metadata": {},
   "outputs": [],
   "source": [
    "import pandas as pd\n",
    "from sklearn.model_selection import train_test_split, GridSearchCV\n",
    "from sklearn.ensemble import RandomForestClassifier\n",
    "from sklearn.preprocessing import LabelEncoder\n",
    "from sklearn.metrics import classification_report, confusion_matrix\n",
    "clinical_df = pd.read_csv(\"clinical_data.csv\")\n"
   ]
  },
  {
   "cell_type": "markdown",
   "metadata": {},
   "source": [
    "## Random Forest using all features"
   ]
  },
  {
   "cell_type": "markdown",
   "metadata": {},
   "source": [
    "In order to find the most important features for our staging of breast cancer prognosis, this cell sets upand evaluates a Random Forest classifier. The process involves preparing the data, encoding categorical features, handling missing values, splitting the dataset, training the model, and evaluating its performance on a test set. This initial evaluation with all available features will help establish a baseline and identify which features are most influential in predicting the stages of breast cancer."
   ]
  },
  {
   "cell_type": "code",
   "execution_count": 19,
   "metadata": {},
   "outputs": [
    {
     "name": "stdout",
     "output_type": "stream",
     "text": [
      "              precision    recall  f1-score   support\n",
      "\n",
      "     Stage I       0.73      1.00      0.85        11\n",
      "    Stage IA       1.00      0.81      0.89        21\n",
      "    Stage II       1.00      0.00      0.00         3\n",
      "   Stage IIA       0.94      1.00      0.97        58\n",
      "   Stage IIB       0.97      0.94      0.96        35\n",
      "  Stage IIIA       0.76      1.00      0.87        13\n",
      "  Stage IIIC       1.00      0.43      0.60         7\n",
      "\n",
      "    accuracy                           0.91       148\n",
      "   macro avg       0.91      0.74      0.73       148\n",
      "weighted avg       0.93      0.91      0.90       148\n",
      "\n"
     ]
    }
   ],
   "source": [
    "target = 'Stage'\n",
    "features = clinical_df.columns.drop(target)\n",
    "\n",
    "le = LabelEncoder()\n",
    "for col in features:\n",
    "    if clinical_df[col].dtype == 'object':  \n",
    "        clinical_df[col] = le.fit_transform(clinical_df[col].astype(str))\n",
    "\n",
    "X = clinical_df[features].copy()\n",
    "y = clinical_df[target]\n",
    "X.fillna(X.mean(), inplace=True)\n",
    "\n",
    "X_train, X_test, y_train, y_test = train_test_split(X, y, test_size=0.2, random_state=42)\n",
    "rf = RandomForestClassifier(n_estimators=100, random_state=42)\n",
    "rf.fit(X_train, y_train)\n",
    "\n",
    "# Predict on the testing set\n",
    "y_pred = rf.predict(X_test)\n",
    "print(classification_report(y_test, y_pred, zero_division=1))"
   ]
  },
  {
   "cell_type": "markdown",
   "metadata": {},
   "source": [
    "## Feature Analysis"
   ]
  },
  {
   "cell_type": "markdown",
   "metadata": {},
   "source": [
    "To refine our understanding of breast cancer prognosis, this segment of analysis focuses on the critical task of feature evaluation. After setting up our data, encoding categorical variables, and handling missing values, we meticulously trained a Random Forest classifier with the aim of uncovering which features significantly influence the staging of breast cancer. This step is crucial for identifying impactful factors and potentially discarding redundant or less informative features, which can streamline future modeling efforts and enhance predictive accuracy.\n"
   ]
  },
  {
   "cell_type": "code",
   "execution_count": 4,
   "metadata": {},
   "outputs": [
    {
     "name": "stdout",
     "output_type": "stream",
     "text": [
      "Feature ranking:\n",
      "_-_-_-_-_-_-_-_-_-_-_-_-_-_-_-_-_-_-_-_-_\n",
      "\n",
      "paper_pathologic_stage: 0.1765\n",
      "ajcc_pathologic_n: 0.1694\n",
      "ajcc_pathologic_t: 0.0952\n",
      "days_to_collection: 0.0293\n",
      "paper_days_to_last_followup: 0.0234\n",
      "year_of_diagnosis: 0.0224\n",
      "treatments: 0.0223\n",
      "initial_weight: 0.0218\n",
      "sample_id: 0.0210\n",
      "days_to_birth: 0.0207\n",
      "pathology_report_uuid: 0.0207\n",
      "demographic_id: 0.0206\n",
      "paper_days_to_birth: 0.0205\n",
      "diagnosis_id: 0.0202\n",
      "Unnamed: 0: 0.0199\n",
      "age_at_diagnosis: 0.0186\n",
      "sample_submitter_id: 0.0184\n",
      "paper_patient: 0.0181\n",
      "patient: 0.0176\n",
      "paper_age_at_initial_pathologic_diagnosis: 0.0175\n",
      "bcr_patient_barcode: 0.0172\n",
      "barcode: 0.0171\n",
      "submitter_id: 0.0166\n",
      "sample: 0.0157\n",
      "age_at_index: 0.0148\n",
      "sites_of_involvement: 0.0143\n",
      "paper_PARADIGM.Clusters: 0.0101\n",
      "paper_Mutation.Clusters: 0.0093\n",
      "primary_diagnosis: 0.0082\n",
      "paper_CNV.Clusters: 0.0082\n",
      "paper_BRCA_Subtype_PAM50: 0.0078\n",
      "morphology: 0.0076\n",
      "ajcc_pathologic_m: 0.0065\n",
      "method_of_diagnosis: 0.0060\n",
      "paper_miRNA.Clusters: 0.0060\n",
      "paper_mRNA.Clusters: 0.0055\n",
      "race: 0.0051\n",
      "paper_DNA.Methylation.Clusters: 0.0046\n",
      "laterality: 0.0044\n",
      "ethnicity: 0.0038\n",
      "preservation_method: 0.0037\n",
      "paper_Included_in_previous_marker_papers: 0.0036\n",
      "oct_embedded: 0.0033\n",
      "paper_vital_status: 0.0020\n",
      "vital_status: 0.0018\n",
      "prior_malignancy: 0.0010\n",
      "synchronous_malignancy: 0.0006\n",
      "age_is_obfuscated: 0.0004\n",
      "prior_treatment: 0.0004\n",
      "tissue_or_organ_of_origin: 0.0003\n",
      "icd_10_code: 0.0001\n"
     ]
    }
   ],
   "source": [
    "import matplotlib.pyplot as plt\n",
    "import numpy as np\n",
    "target = 'Stage'\n",
    "features = df.columns.drop(target)\n",
    "\n",
    "# Optionally, encode categorical variables\n",
    "le = LabelEncoder()\n",
    "for col in features:\n",
    "    if df[col].dtype == 'object':\n",
    "        df[col] = le.fit_transform(df[col])\n",
    "\n",
    "# Split the data\n",
    "X = df[features].copy()\n",
    "y = df[target]\n",
    "X.fillna(X.mean(), inplace=True)  # handle missing values\n",
    "X_train, X_test, y_train, y_test = train_test_split(X, y, test_size=0.2, random_state=42)\n",
    "\n",
    "# Train the model\n",
    "rf = RandomForestClassifier(n_estimators=100, random_state=42)\n",
    "rf.fit(X_train, y_train)\n",
    "\n",
    "feature_importances = rf.feature_importances_\n",
    "indices = np.argsort(feature_importances)[::-1]\n",
    "non_zero_indices = [i for i in indices if feature_importances[i] != 0]\n",
    "\n",
    "print(\"Feature ranking:\")\n",
    "print(\"_-_-_-_-_-_-_-_-_-_-_-_-_-_-_-_-_-_-_-_-_\\n\")\n",
    "for f in range(X_train.shape[1]):\n",
    "    if feature_importances[indices[f]]  !=0:\n",
    "\n",
    "        print(f\"{features[indices[f]]}: {feature_importances[indices[f]]:.4f}\")\n",
    "\n"
   ]
  },
  {
   "cell_type": "code",
   "execution_count": 17,
   "metadata": {},
   "outputs": [
    {
     "data": {
      "image/png": "[encoded data removed]",
      "text/plain": [
       "<Figure size 640x480 with 1 Axes>"
      ]
     },
     "metadata": {},
     "output_type": "display_data"
    }
   ],
   "source": [
    "top_10_indices = non_zero_indices[:15]\n",
    "plt.figure()\n",
    "plt.title(\"Top 15 Feature importances\")\n",
    "plt.bar(range(len(top_10_indices)), [feature_importances[i] for i in top_10_indices], color=\"r\", align=\"center\")\n",
    "plt.xticks(range(len(top_10_indices)), [features[i] for i in top_10_indices], rotation=90)  # Rotate labels to 45 degrees\n",
    "plt.xlim([-1, len(top_10_indices)])\n",
    "plt.tight_layout() \n",
    "plt.show()"
   ]
  },
  {
   "cell_type": "markdown",
   "metadata": {},
   "source": [
    "Based on the insights gleaned from our feature importance analysis, future model refinement will focus on incorporating only the most impactful features. Additionally, to optimize the predictive performance of our models, we will implement a grid search strategy. "
   ]
  },
  {
   "cell_type": "markdown",
   "metadata": {},
   "source": [
    "## Result after removing non important features"
   ]
  },
  {
   "cell_type": "code",
   "execution_count": 8,
   "metadata": {},
   "outputs": [],
   "source": [
    "target = 'Stage'\n",
    "features = ['paper_pathologic_stage', 'ajcc_pathologic_n', 'ajcc_pathologic_t', 'days_to_collection', \n",
    "            'paper_days_to_last_followup', 'year_of_diagnosis', 'treatments', 'initial_weight', 'sample_id', \n",
    "            'days_to_birth', 'pathology_report_uuid', 'demographic_id', 'paper_days_to_birth', 'diagnosis_id', \n",
    "            'Unnamed: 0', 'age_at_diagnosis', 'sample_submitter_id', 'paper_patient', 'patient', \n",
    "            'paper_age_at_initial_pathologic_diagnosis', 'bcr_patient_barcode', 'barcode', 'submitter_id', \n",
    "            'sample', 'age_at_index', 'sites_of_involvement', 'paper_PARADIGM.Clusters', 'paper_Mutation.Clusters', \n",
    "            'primary_diagnosis', 'paper_CNV.Clusters', 'paper_BRCA_Subtype_PAM50', 'morphology', 'ajcc_pathologic_m', \n",
    "            'method_of_diagnosis', 'paper_miRNA.Clusters', 'paper_mRNA.Clusters', 'race', 'paper_DNA.Methylation.Clusters', \n",
    "            'laterality', 'ethnicity', 'preservation_method', 'paper_Included_in_previous_marker_papers', \n",
    "            'oct_embedded', 'paper_vital_status', 'vital_status', 'prior_malignancy', 'synchronous_malignancy', \n",
    "            'age_is_obfuscated', 'prior_treatment', 'tissue_or_organ_of_origin', 'icd_10_code']"
   ]
  },
  {
   "cell_type": "code",
   "execution_count": 9,
   "metadata": {},
   "outputs": [
    {
     "name": "stdout",
     "output_type": "stream",
     "text": [
      "              precision    recall  f1-score   support\n",
      "\n",
      "     Stage I       0.79      1.00      0.88        11\n",
      "    Stage IA       1.00      0.86      0.92        21\n",
      "    Stage II       1.00      0.00      0.00         3\n",
      "   Stage IIA       0.94      1.00      0.97        58\n",
      "   Stage IIB       0.97      0.94      0.96        35\n",
      "  Stage IIIA       0.76      1.00      0.87        13\n",
      "  Stage IIIC       1.00      0.43      0.60         7\n",
      "\n",
      "    accuracy                           0.92       148\n",
      "   macro avg       0.92      0.75      0.74       148\n",
      "weighted avg       0.93      0.92      0.91       148\n",
      "\n"
     ]
    }
   ],
   "source": [
    "le = LabelEncoder()\n",
    "df[features] = df[features].apply(lambda col: le.fit_transform(col.astype(str)))\n",
    "\n",
    "X = df[features].copy()\n",
    "y = df[target]\n",
    "\n",
    "X.fillna(X.mean(), inplace=True)\n",
    "\n",
    "X_train, X_test, y_train, y_test = train_test_split(X, y, test_size=0.2, random_state=42)\n",
    "\n",
    "rf = RandomForestClassifier(n_estimators=100, random_state=42)\n",
    "rf.fit(X_train, y_train)\n",
    "\n",
    "y_pred = rf.predict(X_test)\n",
    "\n",
    "print(classification_report(y_test, y_pred, zero_division=1))"
   ]
  },
  {
   "cell_type": "markdown",
   "metadata": {},
   "source": [
    "## Grid search to find best result"
   ]
  },
  {
   "cell_type": "code",
   "execution_count": 8,
   "metadata": {},
   "outputs": [
    {
     "name": "stdout",
     "output_type": "stream",
     "text": [
      "Fitting 5 folds for each of 216 candidates, totalling 1080 fits\n"
     ]
    },
    {
     "name": "stderr",
     "output_type": "stream",
     "text": [
      "c:\\Users\\pc\\anaconda3\\envs\\image_classification\\lib\\site-packages\\sklearn\\model_selection\\_split.py:737: UserWarning: The least populated class in y has only 1 members, which is less than n_splits=5.\n",
      "  warnings.warn(\n"
     ]
    },
    {
     "name": "stdout",
     "output_type": "stream",
     "text": [
      "best parameters: {'bootstrap': True, 'max_depth': 10, 'min_samples_leaf': 1, 'min_samples_split': 5, 'n_estimators': 300}\n",
      "best score: 0.8693032015065913\n",
      "              precision    recall  f1-score   support\n",
      "\n",
      "     Stage I       0.85      1.00      0.92        11\n",
      "    Stage IA       1.00      0.90      0.95        21\n",
      "    Stage II       1.00      0.00      0.00         3\n",
      "   Stage IIA       0.88      0.97      0.92        58\n",
      "   Stage IIB       0.94      0.86      0.90        35\n",
      "  Stage IIIA       0.76      1.00      0.87        13\n",
      "  Stage IIIC       1.00      0.43      0.60         7\n",
      "\n",
      "    accuracy                           0.89       148\n",
      "   macro avg       0.92      0.74      0.74       148\n",
      "weighted avg       0.90      0.89      0.88       148\n",
      "\n"
     ]
    }
   ],
   "source": [
    "le = LabelEncoder()\n",
    "df[features] = df[features].apply(lambda col: le.fit_transform(col.astype(str)))\n",
    "\n",
    "X = df[features].copy()\n",
    "y = df[target]\n",
    "\n",
    "X.fillna(X.mean(), inplace=True)\n",
    "\n",
    "# Split data into training and testing sets\n",
    "X_train, X_test, y_train, y_test = train_test_split(X, y, test_size=0.2, random_state=42)\n",
    "\n",
    "# Initialize the RandomForest model\n",
    "rf = RandomForestClassifier(random_state=42)\n",
    "\n",
    "# Define the parameter grid\n",
    "param_grid = {\n",
    "    'n_estimators': [100, 200, 300],\n",
    "    'max_depth': [None, 10, 20, 30],\n",
    "    'min_samples_split': [2, 5, 10],\n",
    "    'min_samples_leaf': [1, 2, 4],\n",
    "    'bootstrap': [True, False]\n",
    "}\n",
    "grid_search = GridSearchCV(estimator=rf, param_grid=param_grid, cv=5, verbose=1, n_jobs=-1)\n",
    "grid_search.fit(X_train, y_train)\n",
    "\n",
    "print(\"best parameters:\", grid_search.best_params_)\n",
    "print(\"best score:\", grid_search.best_score_)\n",
    "\n",
    "y_pred = grid_search.best_estimator_.predict(X_test)\n",
    "print(classification_report(y_test, y_pred, zero_division=1))"
   ]
  },
  {
   "cell_type": "markdown",
   "metadata": {},
   "source": [
    "### running random Forest based on following Grid Search"
   ]
  },
  {
   "cell_type": "code",
   "execution_count": 10,
   "metadata": {},
   "outputs": [
    {
     "name": "stdout",
     "output_type": "stream",
     "text": [
      "Overall Accuracy: 0.8918918918918919\n",
      "\n",
      "\n",
      "              precision    recall  f1-score   support\n",
      "\n",
      "     Stage I       0.85      1.00      0.92        11\n",
      "    Stage IA       1.00      0.90      0.95        21\n",
      "    Stage II       1.00      0.00      0.00         3\n",
      "   Stage IIA       0.88      0.97      0.92        58\n",
      "   Stage IIB       0.94      0.86      0.90        35\n",
      "  Stage IIIA       0.76      1.00      0.87        13\n",
      "  Stage IIIC       1.00      0.43      0.60         7\n",
      "\n",
      "    accuracy                           0.89       148\n",
      "   macro avg       0.92      0.74      0.74       148\n",
      "weighted avg       0.90      0.89      0.88       148\n",
      "\n"
     ]
    }
   ],
   "source": [
    "from sklearn.metrics import accuracy_score\n",
    "le = LabelEncoder()\n",
    "df[features] = df[features].apply(lambda col: le.fit_transform(col.astype(str)))\n",
    "\n",
    "X = df[features].copy()\n",
    "y = df[target]\n",
    "\n",
    "X.fillna(X.mean(), inplace=True)\n",
    "\n",
    "X_train, X_test, y_train, y_test = train_test_split(X, y, test_size=0.2, random_state=42)\n",
    "\n",
    "rf = RandomForestClassifier(n_estimators=300, random_state=42, min_samples_split= 5, min_samples_leaf=1, max_depth=10, bootstrap=True )\n",
    "rf.fit(X_train, y_train)\n",
    "\n",
    "y_pred = rf.predict(X_test)\n",
    "accuracy = accuracy_score(y_test, y_pred)\n",
    "print(f\"Overall Accuracy: {accuracy}\\n\\n\")\n",
    "print(classification_report(y_test, y_pred, zero_division=1))"
   ]
  },
  {
   "cell_type": "code",
   "execution_count": 11,
   "metadata": {},
   "outputs": [
    {
     "data": {
      "image/png": "[encoded data removed]",
      "text/plain": [
       "<Figure size 1000x700 with 2 Axes>"
      ]
     },
     "metadata": {},
     "output_type": "display_data"
    }
   ],
   "source": [
    "from sklearn.metrics import confusion_matrix\n",
    "import seaborn as sns\n",
    "\n",
    "cm = confusion_matrix(y_test, y_pred)\n",
    "plt.figure(figsize=(10, 7))\n",
    "sns.heatmap(cm, annot=True, fmt='g')\n",
    "plt.xlabel('Predicted')\n",
    "plt.ylabel('True')\n",
    "plt.show()"
   ]
  },
  {
   "cell_type": "markdown",
   "metadata": {},
   "source": [
    "correlation between stages and features"
   ]
  }
 ],
 "metadata": {
  "kernelspec": {
   "display_name": "image_classification",
   "language": "python",
   "name": "python3"
  },
  "language_info": {
   "codemirror_mode": {
    "name": "ipython",
    "version": 3
   },
   "file_extension": ".py",
   "mimetype": "text/x-python",
   "name": "python",
   "nbconvert_exporter": "python",
   "pygments_lexer": "ipython3",
   "version": "3.8.19"
  }
 },
 "nbformat": 4,
 "nbformat_minor": 2
}
